{
 "cells": [
  {
   "attachments": {},
   "cell_type": "markdown",
   "metadata": {},
   "source": [
    "# <center> **ПРОЕКТ \"Анализ воронки вовлечения в игру\"**"
   ]
  },
  {
   "attachments": {},
   "cell_type": "markdown",
   "metadata": {},
   "source": [
    "В нашем распоряжении имеются данные о прохождении ключевых этапов пользователями мобильной игры Quiz Freeze. Мы знаем, что одна часть этапов игры открыта для бесплатного пользования, а другая часть - может быть достпупна только после ее оплаты. Мы также знаем, что среди прочих этапов игры есть этап обучения, который, как можно предположить, помогает пользователям в достижении некоторых результатов по мере прохождения игры и таким образом влияет на заинтересован-ность пользователей в покупке ее платных пакетов."
   ]
  },
  {
   "attachments": {},
   "cell_type": "markdown",
   "metadata": {},
   "source": [
    "С целью исследования полезности и эффективности этапа обучения с точки зрения удержания пользователей в игре и продвижения ее платных пакетов выдвинем несколько связанных с этапов обучения гипотез, а затем их проверим.\n",
    "\n",
    "Гипотеза 1\n",
    "По идее, должна быть разница в поведении групп, которые проходят и не проходят обучение. Но так ли это? Влияет ли обучение на скорость прохождения других этапов игры?\n",
    "\n",
    "Гипотеза 2\n",
    "Кажется, повторное прохождение обучения положительно влияет на оплату, верно ли это?\n",
    "\n",
    "Гипотеза 3\n",
    "Если пользователь сначала выбирает сложность обучения, будет ли он потом проходить обучение?\n"
   ]
  },
  {
   "cell_type": "code",
   "execution_count": 1,
   "metadata": {},
   "outputs": [],
   "source": [
    "import pandas as pd\n",
    "import matplotlib.pyplot as plt\n",
    "%matplotlib inline\n",
    "import seaborn as sns"
   ]
  },
  {
   "attachments": {},
   "cell_type": "markdown",
   "metadata": {},
   "source": [
    "### *1. Познакомимся с данными*"
   ]
  },
  {
   "cell_type": "code",
   "execution_count": 2,
   "metadata": {},
   "outputs": [
    {
     "name": "stdout",
     "output_type": "stream",
     "text": [
      "<class 'pandas.core.frame.DataFrame'>\n",
      "RangeIndex: 252334 entries, 0 to 252333\n",
      "Data columns (total 6 columns):\n",
      " #   Column          Non-Null Count   Dtype  \n",
      "---  ------          --------------   -----  \n",
      " 0   id              252334 non-null  int64  \n",
      " 1   event_type      252334 non-null  object \n",
      " 2   selected_level  31086 non-null   object \n",
      " 3   start_time      252334 non-null  object \n",
      " 4   tutorial_id     125103 non-null  float64\n",
      " 5   user_id         252334 non-null  int64  \n",
      "dtypes: float64(1), int64(2), object(3)\n",
      "memory usage: 11.6+ MB\n",
      "\n",
      "<class 'pandas.core.frame.DataFrame'>\n",
      "RangeIndex: 5956 entries, 0 to 5955\n",
      "Data columns (total 4 columns):\n",
      " #   Column          Non-Null Count  Dtype \n",
      "---  ------          --------------  ----- \n",
      " 0   id              5956 non-null   int64 \n",
      " 1   user_id         5956 non-null   int64 \n",
      " 2   event_datetime  5956 non-null   object\n",
      " 3   amount          5956 non-null   int64 \n",
      "dtypes: int64(3), object(1)\n",
      "memory usage: 186.2+ KB\n"
     ]
    }
   ],
   "source": [
    "events = pd.read_csv('events.csv', sep=',')\n",
    "purchase = pd.read_csv('purchase.csv', sep=',')\n",
    "\n",
    "events.info()\n",
    "print('')\n",
    "purchase.info()"
   ]
  },
  {
   "cell_type": "code",
   "execution_count": 3,
   "metadata": {},
   "outputs": [
    {
     "data": {
      "text/html": [
       "<div>\n",
       "<style scoped>\n",
       "    .dataframe tbody tr th:only-of-type {\n",
       "        vertical-align: middle;\n",
       "    }\n",
       "\n",
       "    .dataframe tbody tr th {\n",
       "        vertical-align: top;\n",
       "    }\n",
       "\n",
       "    .dataframe thead th {\n",
       "        text-align: right;\n",
       "    }\n",
       "</style>\n",
       "<table border=\"1\" class=\"dataframe\">\n",
       "  <thead>\n",
       "    <tr style=\"text-align: right;\">\n",
       "      <th></th>\n",
       "      <th>id</th>\n",
       "      <th>event_type</th>\n",
       "      <th>selected_level</th>\n",
       "      <th>start_time</th>\n",
       "      <th>tutorial_id</th>\n",
       "      <th>user_id</th>\n",
       "    </tr>\n",
       "  </thead>\n",
       "  <tbody>\n",
       "    <tr>\n",
       "      <th>0</th>\n",
       "      <td>28903</td>\n",
       "      <td>registration</td>\n",
       "      <td>NaN</td>\n",
       "      <td>2016-05-11T23:40:55</td>\n",
       "      <td>NaN</td>\n",
       "      <td>12583</td>\n",
       "    </tr>\n",
       "    <tr>\n",
       "      <th>1</th>\n",
       "      <td>28904</td>\n",
       "      <td>registration</td>\n",
       "      <td>NaN</td>\n",
       "      <td>2016-05-11T23:49:58</td>\n",
       "      <td>NaN</td>\n",
       "      <td>12584</td>\n",
       "    </tr>\n",
       "    <tr>\n",
       "      <th>2</th>\n",
       "      <td>28905</td>\n",
       "      <td>registration</td>\n",
       "      <td>NaN</td>\n",
       "      <td>2016-05-12T00:53:07</td>\n",
       "      <td>NaN</td>\n",
       "      <td>12585</td>\n",
       "    </tr>\n",
       "    <tr>\n",
       "      <th>3</th>\n",
       "      <td>28906</td>\n",
       "      <td>tutorial_start</td>\n",
       "      <td>NaN</td>\n",
       "      <td>2016-05-12T01:32:20</td>\n",
       "      <td>17562.0</td>\n",
       "      <td>12585</td>\n",
       "    </tr>\n",
       "    <tr>\n",
       "      <th>4</th>\n",
       "      <td>28907</td>\n",
       "      <td>tutorial_finish</td>\n",
       "      <td>NaN</td>\n",
       "      <td>2016-05-12T01:34:53</td>\n",
       "      <td>17562.0</td>\n",
       "      <td>12585</td>\n",
       "    </tr>\n",
       "    <tr>\n",
       "      <th>...</th>\n",
       "      <td>...</td>\n",
       "      <td>...</td>\n",
       "      <td>...</td>\n",
       "      <td>...</td>\n",
       "      <td>...</td>\n",
       "      <td>...</td>\n",
       "    </tr>\n",
       "    <tr>\n",
       "      <th>252329</th>\n",
       "      <td>281232</td>\n",
       "      <td>level_choice</td>\n",
       "      <td>hard</td>\n",
       "      <td>2020-07-02T10:02:15</td>\n",
       "      <td>NaN</td>\n",
       "      <td>87439</td>\n",
       "    </tr>\n",
       "    <tr>\n",
       "      <th>252330</th>\n",
       "      <td>281233</td>\n",
       "      <td>level_choice</td>\n",
       "      <td>medium</td>\n",
       "      <td>2020-07-02T11:38:52</td>\n",
       "      <td>NaN</td>\n",
       "      <td>87488</td>\n",
       "    </tr>\n",
       "    <tr>\n",
       "      <th>252331</th>\n",
       "      <td>281234</td>\n",
       "      <td>pack_choice</td>\n",
       "      <td>NaN</td>\n",
       "      <td>2020-07-02T11:42:14</td>\n",
       "      <td>NaN</td>\n",
       "      <td>87488</td>\n",
       "    </tr>\n",
       "    <tr>\n",
       "      <th>252332</th>\n",
       "      <td>281235</td>\n",
       "      <td>tutorial_start</td>\n",
       "      <td>NaN</td>\n",
       "      <td>2020-07-02T13:32:58</td>\n",
       "      <td>86127.0</td>\n",
       "      <td>87464</td>\n",
       "    </tr>\n",
       "    <tr>\n",
       "      <th>252333</th>\n",
       "      <td>281236</td>\n",
       "      <td>tutorial_finish</td>\n",
       "      <td>NaN</td>\n",
       "      <td>2020-07-02T13:36:36</td>\n",
       "      <td>86127.0</td>\n",
       "      <td>87464</td>\n",
       "    </tr>\n",
       "  </tbody>\n",
       "</table>\n",
       "<p>252334 rows × 6 columns</p>\n",
       "</div>"
      ],
      "text/plain": [
       "            id       event_type selected_level           start_time  \\\n",
       "0        28903     registration            NaN  2016-05-11T23:40:55   \n",
       "1        28904     registration            NaN  2016-05-11T23:49:58   \n",
       "2        28905     registration            NaN  2016-05-12T00:53:07   \n",
       "3        28906   tutorial_start            NaN  2016-05-12T01:32:20   \n",
       "4        28907  tutorial_finish            NaN  2016-05-12T01:34:53   \n",
       "...        ...              ...            ...                  ...   \n",
       "252329  281232     level_choice           hard  2020-07-02T10:02:15   \n",
       "252330  281233     level_choice         medium  2020-07-02T11:38:52   \n",
       "252331  281234      pack_choice            NaN  2020-07-02T11:42:14   \n",
       "252332  281235   tutorial_start            NaN  2020-07-02T13:32:58   \n",
       "252333  281236  tutorial_finish            NaN  2020-07-02T13:36:36   \n",
       "\n",
       "        tutorial_id  user_id  \n",
       "0               NaN    12583  \n",
       "1               NaN    12584  \n",
       "2               NaN    12585  \n",
       "3           17562.0    12585  \n",
       "4           17562.0    12585  \n",
       "...             ...      ...  \n",
       "252329          NaN    87439  \n",
       "252330          NaN    87488  \n",
       "252331          NaN    87488  \n",
       "252332      86127.0    87464  \n",
       "252333      86127.0    87464  \n",
       "\n",
       "[252334 rows x 6 columns]"
      ]
     },
     "metadata": {},
     "output_type": "display_data"
    },
    {
     "data": {
      "text/html": [
       "<div>\n",
       "<style scoped>\n",
       "    .dataframe tbody tr th:only-of-type {\n",
       "        vertical-align: middle;\n",
       "    }\n",
       "\n",
       "    .dataframe tbody tr th {\n",
       "        vertical-align: top;\n",
       "    }\n",
       "\n",
       "    .dataframe thead th {\n",
       "        text-align: right;\n",
       "    }\n",
       "</style>\n",
       "<table border=\"1\" class=\"dataframe\">\n",
       "  <thead>\n",
       "    <tr style=\"text-align: right;\">\n",
       "      <th></th>\n",
       "      <th>id</th>\n",
       "      <th>user_id</th>\n",
       "      <th>event_datetime</th>\n",
       "      <th>amount</th>\n",
       "    </tr>\n",
       "  </thead>\n",
       "  <tbody>\n",
       "    <tr>\n",
       "      <th>0</th>\n",
       "      <td>15674</td>\n",
       "      <td>12584</td>\n",
       "      <td>2016-05-12T10:34:16</td>\n",
       "      <td>100</td>\n",
       "    </tr>\n",
       "    <tr>\n",
       "      <th>1</th>\n",
       "      <td>15675</td>\n",
       "      <td>12985</td>\n",
       "      <td>2016-05-13T08:25:56</td>\n",
       "      <td>50</td>\n",
       "    </tr>\n",
       "    <tr>\n",
       "      <th>2</th>\n",
       "      <td>15676</td>\n",
       "      <td>12828</td>\n",
       "      <td>2016-05-13T16:33:46</td>\n",
       "      <td>50</td>\n",
       "    </tr>\n",
       "    <tr>\n",
       "      <th>3</th>\n",
       "      <td>15677</td>\n",
       "      <td>12598</td>\n",
       "      <td>2016-05-14T01:09:37</td>\n",
       "      <td>150</td>\n",
       "    </tr>\n",
       "    <tr>\n",
       "      <th>4</th>\n",
       "      <td>15678</td>\n",
       "      <td>13037</td>\n",
       "      <td>2016-05-14T01:24:46</td>\n",
       "      <td>100</td>\n",
       "    </tr>\n",
       "    <tr>\n",
       "      <th>...</th>\n",
       "      <td>...</td>\n",
       "      <td>...</td>\n",
       "      <td>...</td>\n",
       "      <td>...</td>\n",
       "    </tr>\n",
       "    <tr>\n",
       "      <th>5951</th>\n",
       "      <td>21625</td>\n",
       "      <td>87331</td>\n",
       "      <td>2020-07-06T09:02:07</td>\n",
       "      <td>50</td>\n",
       "    </tr>\n",
       "    <tr>\n",
       "      <th>5952</th>\n",
       "      <td>21626</td>\n",
       "      <td>87418</td>\n",
       "      <td>2020-07-06T14:16:37</td>\n",
       "      <td>100</td>\n",
       "    </tr>\n",
       "    <tr>\n",
       "      <th>5953</th>\n",
       "      <td>21627</td>\n",
       "      <td>87431</td>\n",
       "      <td>2020-07-06T22:48:59</td>\n",
       "      <td>50</td>\n",
       "    </tr>\n",
       "    <tr>\n",
       "      <th>5954</th>\n",
       "      <td>21628</td>\n",
       "      <td>87363</td>\n",
       "      <td>2020-07-07T05:38:56</td>\n",
       "      <td>100</td>\n",
       "    </tr>\n",
       "    <tr>\n",
       "      <th>5955</th>\n",
       "      <td>21629</td>\n",
       "      <td>87466</td>\n",
       "      <td>2020-07-08T01:59:21</td>\n",
       "      <td>50</td>\n",
       "    </tr>\n",
       "  </tbody>\n",
       "</table>\n",
       "<p>5956 rows × 4 columns</p>\n",
       "</div>"
      ],
      "text/plain": [
       "         id  user_id       event_datetime  amount\n",
       "0     15674    12584  2016-05-12T10:34:16     100\n",
       "1     15675    12985  2016-05-13T08:25:56      50\n",
       "2     15676    12828  2016-05-13T16:33:46      50\n",
       "3     15677    12598  2016-05-14T01:09:37     150\n",
       "4     15678    13037  2016-05-14T01:24:46     100\n",
       "...     ...      ...                  ...     ...\n",
       "5951  21625    87331  2020-07-06T09:02:07      50\n",
       "5952  21626    87418  2020-07-06T14:16:37     100\n",
       "5953  21627    87431  2020-07-06T22:48:59      50\n",
       "5954  21628    87363  2020-07-07T05:38:56     100\n",
       "5955  21629    87466  2020-07-08T01:59:21      50\n",
       "\n",
       "[5956 rows x 4 columns]"
      ]
     },
     "metadata": {},
     "output_type": "display_data"
    }
   ],
   "source": [
    "display(events)\n",
    "display(purchase)"
   ]
  },
  {
   "attachments": {},
   "cell_type": "markdown",
   "metadata": {},
   "source": [
    "Первое общее знакомство с таблицами events и purchase показало, что таблица events содержит ячейки с пустыми значениями, а столбцы таблиц events и purchase с данными о дате и времени события, имеют тип данных - object. И тому, и другому уделим внимание дальше, при формировании датафрейма, на основании которого будут проводиться исследования, а затем внесем необходимые корректировки.\n"
   ]
  },
  {
   "attachments": {},
   "cell_type": "markdown",
   "metadata": {},
   "source": [
    "### *2. Перед началом преобразования исходных таблиц создадим их копии.*"
   ]
  },
  {
   "attachments": {},
   "cell_type": "markdown",
   "metadata": {},
   "source": [
    "Комментарий: в нашем случае, когда размер таблиц очевидно небольшой, выполнение данного шага можно было бы пропустить, но с целью выработки полезной привычки мы это сделаем :)"
   ]
  },
  {
   "cell_type": "code",
   "execution_count": 4,
   "metadata": {},
   "outputs": [],
   "source": [
    "events_df = events.copy()\n",
    "purchase_df = purchase.copy()"
   ]
  },
  {
   "attachments": {},
   "cell_type": "markdown",
   "metadata": {},
   "source": [
    "### *3. Объединим данные двух таблиц.*"
   ]
  },
  {
   "attachments": {},
   "cell_type": "markdown",
   "metadata": {},
   "source": [
    "Это необходимо, т.к. наше исслелование предполагает работу со всеми этапами игры, включая оплату, сведения о которой содержится в отдельном датасете. Непосредственно перед объединением двух таблиц проделаем с ними некоторые манипуляции, чтобы объединение прошло корректно, а именно: в таблицу purchase_df добавим столбец, заполненный значением purchase, который обозначит этап, описанный данной таблицей (purchase_df), а также некоторым столбцам таблиц присвоим новые заголовки, чтобы признаки двух объединенных таблиц продолжали корректно и эффективно нести свою смысловую нагрузку в новой таблице. А затем, после объединения таблиц в новый датафрейм,\n",
    "сбросим индексы, перенесенные в него из исходных таблиц и не несущие смысла после объединения, а также отсортируем все события по возрастанию времени."
   ]
  },
  {
   "cell_type": "code",
   "execution_count": 5,
   "metadata": {},
   "outputs": [
    {
     "data": {
      "text/html": [
       "<div>\n",
       "<style scoped>\n",
       "    .dataframe tbody tr th:only-of-type {\n",
       "        vertical-align: middle;\n",
       "    }\n",
       "\n",
       "    .dataframe tbody tr th {\n",
       "        vertical-align: top;\n",
       "    }\n",
       "\n",
       "    .dataframe thead th {\n",
       "        text-align: right;\n",
       "    }\n",
       "</style>\n",
       "<table border=\"1\" class=\"dataframe\">\n",
       "  <thead>\n",
       "    <tr style=\"text-align: right;\">\n",
       "      <th></th>\n",
       "      <th>event_id</th>\n",
       "      <th>event_type</th>\n",
       "      <th>selected_level</th>\n",
       "      <th>start_time</th>\n",
       "      <th>tutorial_id</th>\n",
       "      <th>user_id</th>\n",
       "      <th>purchase_id</th>\n",
       "      <th>amount</th>\n",
       "    </tr>\n",
       "  </thead>\n",
       "  <tbody>\n",
       "    <tr>\n",
       "      <th>0</th>\n",
       "      <td>28903.0</td>\n",
       "      <td>registration</td>\n",
       "      <td>NaN</td>\n",
       "      <td>2016-05-11T23:40:55</td>\n",
       "      <td>NaN</td>\n",
       "      <td>12583</td>\n",
       "      <td>NaN</td>\n",
       "      <td>NaN</td>\n",
       "    </tr>\n",
       "    <tr>\n",
       "      <th>1</th>\n",
       "      <td>28904.0</td>\n",
       "      <td>registration</td>\n",
       "      <td>NaN</td>\n",
       "      <td>2016-05-11T23:49:58</td>\n",
       "      <td>NaN</td>\n",
       "      <td>12584</td>\n",
       "      <td>NaN</td>\n",
       "      <td>NaN</td>\n",
       "    </tr>\n",
       "    <tr>\n",
       "      <th>2</th>\n",
       "      <td>28905.0</td>\n",
       "      <td>registration</td>\n",
       "      <td>NaN</td>\n",
       "      <td>2016-05-12T00:53:07</td>\n",
       "      <td>NaN</td>\n",
       "      <td>12585</td>\n",
       "      <td>NaN</td>\n",
       "      <td>NaN</td>\n",
       "    </tr>\n",
       "    <tr>\n",
       "      <th>3</th>\n",
       "      <td>28906.0</td>\n",
       "      <td>tutorial_start</td>\n",
       "      <td>NaN</td>\n",
       "      <td>2016-05-12T01:32:20</td>\n",
       "      <td>17562.0</td>\n",
       "      <td>12585</td>\n",
       "      <td>NaN</td>\n",
       "      <td>NaN</td>\n",
       "    </tr>\n",
       "    <tr>\n",
       "      <th>4</th>\n",
       "      <td>28907.0</td>\n",
       "      <td>tutorial_finish</td>\n",
       "      <td>NaN</td>\n",
       "      <td>2016-05-12T01:34:53</td>\n",
       "      <td>17562.0</td>\n",
       "      <td>12585</td>\n",
       "      <td>NaN</td>\n",
       "      <td>NaN</td>\n",
       "    </tr>\n",
       "    <tr>\n",
       "      <th>...</th>\n",
       "      <td>...</td>\n",
       "      <td>...</td>\n",
       "      <td>...</td>\n",
       "      <td>...</td>\n",
       "      <td>...</td>\n",
       "      <td>...</td>\n",
       "      <td>...</td>\n",
       "      <td>...</td>\n",
       "    </tr>\n",
       "    <tr>\n",
       "      <th>258286</th>\n",
       "      <td>NaN</td>\n",
       "      <td>purchase</td>\n",
       "      <td>NaN</td>\n",
       "      <td>2020-07-06T14:16:37</td>\n",
       "      <td>NaN</td>\n",
       "      <td>87418</td>\n",
       "      <td>21626.0</td>\n",
       "      <td>100.0</td>\n",
       "    </tr>\n",
       "    <tr>\n",
       "      <th>258287</th>\n",
       "      <td>NaN</td>\n",
       "      <td>purchase</td>\n",
       "      <td>NaN</td>\n",
       "      <td>2020-07-06T22:48:59</td>\n",
       "      <td>NaN</td>\n",
       "      <td>87431</td>\n",
       "      <td>21627.0</td>\n",
       "      <td>50.0</td>\n",
       "    </tr>\n",
       "    <tr>\n",
       "      <th>258288</th>\n",
       "      <td>NaN</td>\n",
       "      <td>purchase</td>\n",
       "      <td>NaN</td>\n",
       "      <td>2020-07-07T05:38:56</td>\n",
       "      <td>NaN</td>\n",
       "      <td>87363</td>\n",
       "      <td>21628.0</td>\n",
       "      <td>100.0</td>\n",
       "    </tr>\n",
       "    <tr>\n",
       "      <th>258289</th>\n",
       "      <td>NaN</td>\n",
       "      <td>purchase</td>\n",
       "      <td>NaN</td>\n",
       "      <td>2020-07-08T01:59:21</td>\n",
       "      <td>NaN</td>\n",
       "      <td>87466</td>\n",
       "      <td>21629.0</td>\n",
       "      <td>50.0</td>\n",
       "    </tr>\n",
       "    <tr>\n",
       "      <th>229121</th>\n",
       "      <td>258024.0</td>\n",
       "      <td>tutorial_finish</td>\n",
       "      <td>NaN</td>\n",
       "      <td>20202019-04-16</td>\n",
       "      <td>79776.0</td>\n",
       "      <td>80522</td>\n",
       "      <td>NaN</td>\n",
       "      <td>NaN</td>\n",
       "    </tr>\n",
       "  </tbody>\n",
       "</table>\n",
       "<p>258290 rows × 8 columns</p>\n",
       "</div>"
      ],
      "text/plain": [
       "        event_id       event_type selected_level           start_time  \\\n",
       "0        28903.0     registration            NaN  2016-05-11T23:40:55   \n",
       "1        28904.0     registration            NaN  2016-05-11T23:49:58   \n",
       "2        28905.0     registration            NaN  2016-05-12T00:53:07   \n",
       "3        28906.0   tutorial_start            NaN  2016-05-12T01:32:20   \n",
       "4        28907.0  tutorial_finish            NaN  2016-05-12T01:34:53   \n",
       "...          ...              ...            ...                  ...   \n",
       "258286       NaN         purchase            NaN  2020-07-06T14:16:37   \n",
       "258287       NaN         purchase            NaN  2020-07-06T22:48:59   \n",
       "258288       NaN         purchase            NaN  2020-07-07T05:38:56   \n",
       "258289       NaN         purchase            NaN  2020-07-08T01:59:21   \n",
       "229121  258024.0  tutorial_finish            NaN       20202019-04-16   \n",
       "\n",
       "        tutorial_id  user_id  purchase_id  amount  \n",
       "0               NaN    12583          NaN     NaN  \n",
       "1               NaN    12584          NaN     NaN  \n",
       "2               NaN    12585          NaN     NaN  \n",
       "3           17562.0    12585          NaN     NaN  \n",
       "4           17562.0    12585          NaN     NaN  \n",
       "...             ...      ...          ...     ...  \n",
       "258286          NaN    87418      21626.0   100.0  \n",
       "258287          NaN    87431      21627.0    50.0  \n",
       "258288          NaN    87363      21628.0   100.0  \n",
       "258289          NaN    87466      21629.0    50.0  \n",
       "229121      79776.0    80522          NaN     NaN  \n",
       "\n",
       "[258290 rows x 8 columns]"
      ]
     },
     "execution_count": 5,
     "metadata": {},
     "output_type": "execute_result"
    }
   ],
   "source": [
    "purchase_df['event_type'] = 'purchase'\n",
    "events_df = events_df.rename(columns={\"id\": \"event_id\"})\n",
    "purchase_df = purchase_df.rename(columns={\"id\": \"purchase_id\", \"event_datetime\":\"start_time\"})\n",
    "total_events_df = pd.concat([events_df,purchase_df],sort=False)\n",
    "total_events_df = total_events_df.reset_index(drop=True).sort_values('start_time')\n",
    "total_events_df"
   ]
  },
  {
   "attachments": {},
   "cell_type": "markdown",
   "metadata": {},
   "source": [
    "### *4. Сформируем список пользователей, зарегистрированных в 2018 году.*"
   ]
  },
  {
   "attachments": {},
   "cell_type": "markdown",
   "metadata": {},
   "source": [
    "Примечание: Взаимодействие именно этих пользователей с игрой мы и будем изучать по условию задания."
   ]
  },
  {
   "cell_type": "code",
   "execution_count": 6,
   "metadata": {},
   "outputs": [],
   "source": [
    "mask1 = total_events_df['start_time'] >= '2018-01-01'\n",
    "mask2 = total_events_df['start_time'] < '2019-01-01'\n",
    "mask3 = total_events_df['event_type'] == 'registration'\n",
    "user_id = total_events_df[mask1 & mask2 & mask3]['user_id']\n",
    "user_id_sp = set(user_id)\n"
   ]
  },
  {
   "attachments": {},
   "cell_type": "markdown",
   "metadata": {},
   "source": [
    "### *5. Подготовим итоговую таблицу, на основании которой будем проводить наше исследование*"
   ]
  },
  {
   "attachments": {},
   "cell_type": "markdown",
   "metadata": {},
   "source": [
    "На основе объединенного датафрейма total_events_df получим таблицу с данными о прохождении ключевых этапов игры пользователями, зарегистрированными в 2018 году. Далее очистим полученную таблицу от строк с пустыми значениями в столбцах: user_id, start_time или event_type, а также от дублей строк (при наличии или первых, или вторых, или и тех и других вместе). Затем столбец с датой и временем приведем к формату datetime. Получим таблицу, которая станет для нас опорной: на основании данных, которые она будет содержать, мы и проведем свое исследование. Итак, получим новую таблицу и изучим общие сведения о ней."
   ]
  },
  {
   "cell_type": "code",
   "execution_count": 7,
   "metadata": {},
   "outputs": [
    {
     "name": "stdout",
     "output_type": "stream",
     "text": [
      "<class 'pandas.core.frame.DataFrame'>\n",
      "RangeIndex: 68559 entries, 0 to 68558\n",
      "Data columns (total 8 columns):\n",
      " #   Column          Non-Null Count  Dtype         \n",
      "---  ------          --------------  -----         \n",
      " 0   event_id        66959 non-null  float64       \n",
      " 1   event_type      68559 non-null  object        \n",
      " 2   selected_level  8342 non-null   object        \n",
      " 3   start_time      68559 non-null  datetime64[ns]\n",
      " 4   tutorial_id     32954 non-null  float64       \n",
      " 5   user_id         68559 non-null  int64         \n",
      " 6   purchase_id     1600 non-null   float64       \n",
      " 7   amount          1600 non-null   float64       \n",
      "dtypes: datetime64[ns](1), float64(4), int64(1), object(2)\n",
      "memory usage: 4.2+ MB\n"
     ]
    },
    {
     "data": {
      "text/html": [
       "<div>\n",
       "<style scoped>\n",
       "    .dataframe tbody tr th:only-of-type {\n",
       "        vertical-align: middle;\n",
       "    }\n",
       "\n",
       "    .dataframe tbody tr th {\n",
       "        vertical-align: top;\n",
       "    }\n",
       "\n",
       "    .dataframe thead th {\n",
       "        text-align: right;\n",
       "    }\n",
       "</style>\n",
       "<table border=\"1\" class=\"dataframe\">\n",
       "  <thead>\n",
       "    <tr style=\"text-align: right;\">\n",
       "      <th></th>\n",
       "      <th>event_id</th>\n",
       "      <th>event_type</th>\n",
       "      <th>selected_level</th>\n",
       "      <th>start_time</th>\n",
       "      <th>tutorial_id</th>\n",
       "      <th>user_id</th>\n",
       "      <th>purchase_id</th>\n",
       "      <th>amount</th>\n",
       "    </tr>\n",
       "  </thead>\n",
       "  <tbody>\n",
       "    <tr>\n",
       "      <th>0</th>\n",
       "      <td>80308.0</td>\n",
       "      <td>registration</td>\n",
       "      <td>NaN</td>\n",
       "      <td>2018-01-01 03:48:40</td>\n",
       "      <td>NaN</td>\n",
       "      <td>27832</td>\n",
       "      <td>NaN</td>\n",
       "      <td>NaN</td>\n",
       "    </tr>\n",
       "    <tr>\n",
       "      <th>1</th>\n",
       "      <td>80309.0</td>\n",
       "      <td>registration</td>\n",
       "      <td>NaN</td>\n",
       "      <td>2018-01-01 04:07:25</td>\n",
       "      <td>NaN</td>\n",
       "      <td>27833</td>\n",
       "      <td>NaN</td>\n",
       "      <td>NaN</td>\n",
       "    </tr>\n",
       "    <tr>\n",
       "      <th>2</th>\n",
       "      <td>80310.0</td>\n",
       "      <td>registration</td>\n",
       "      <td>NaN</td>\n",
       "      <td>2018-01-01 08:35:10</td>\n",
       "      <td>NaN</td>\n",
       "      <td>27834</td>\n",
       "      <td>NaN</td>\n",
       "      <td>NaN</td>\n",
       "    </tr>\n",
       "    <tr>\n",
       "      <th>3</th>\n",
       "      <td>80311.0</td>\n",
       "      <td>registration</td>\n",
       "      <td>NaN</td>\n",
       "      <td>2018-01-01 11:54:47</td>\n",
       "      <td>NaN</td>\n",
       "      <td>27835</td>\n",
       "      <td>NaN</td>\n",
       "      <td>NaN</td>\n",
       "    </tr>\n",
       "    <tr>\n",
       "      <th>4</th>\n",
       "      <td>80312.0</td>\n",
       "      <td>registration</td>\n",
       "      <td>NaN</td>\n",
       "      <td>2018-01-01 13:28:07</td>\n",
       "      <td>NaN</td>\n",
       "      <td>27836</td>\n",
       "      <td>NaN</td>\n",
       "      <td>NaN</td>\n",
       "    </tr>\n",
       "    <tr>\n",
       "      <th>...</th>\n",
       "      <td>...</td>\n",
       "      <td>...</td>\n",
       "      <td>...</td>\n",
       "      <td>...</td>\n",
       "      <td>...</td>\n",
       "      <td>...</td>\n",
       "      <td>...</td>\n",
       "      <td>...</td>\n",
       "    </tr>\n",
       "    <tr>\n",
       "      <th>68554</th>\n",
       "      <td>NaN</td>\n",
       "      <td>purchase</td>\n",
       "      <td>NaN</td>\n",
       "      <td>2019-01-02 03:48:19</td>\n",
       "      <td>NaN</td>\n",
       "      <td>47498</td>\n",
       "      <td>18441.0</td>\n",
       "      <td>100.0</td>\n",
       "    </tr>\n",
       "    <tr>\n",
       "      <th>68555</th>\n",
       "      <td>NaN</td>\n",
       "      <td>purchase</td>\n",
       "      <td>NaN</td>\n",
       "      <td>2019-01-02 23:26:26</td>\n",
       "      <td>NaN</td>\n",
       "      <td>47647</td>\n",
       "      <td>18442.0</td>\n",
       "      <td>150.0</td>\n",
       "    </tr>\n",
       "    <tr>\n",
       "      <th>68556</th>\n",
       "      <td>NaN</td>\n",
       "      <td>purchase</td>\n",
       "      <td>NaN</td>\n",
       "      <td>2019-01-03 00:36:36</td>\n",
       "      <td>NaN</td>\n",
       "      <td>47554</td>\n",
       "      <td>18443.0</td>\n",
       "      <td>50.0</td>\n",
       "    </tr>\n",
       "    <tr>\n",
       "      <th>68557</th>\n",
       "      <td>NaN</td>\n",
       "      <td>purchase</td>\n",
       "      <td>NaN</td>\n",
       "      <td>2019-01-04 12:51:41</td>\n",
       "      <td>NaN</td>\n",
       "      <td>47742</td>\n",
       "      <td>18448.0</td>\n",
       "      <td>50.0</td>\n",
       "    </tr>\n",
       "    <tr>\n",
       "      <th>68558</th>\n",
       "      <td>NaN</td>\n",
       "      <td>purchase</td>\n",
       "      <td>NaN</td>\n",
       "      <td>2019-01-06 07:14:25</td>\n",
       "      <td>NaN</td>\n",
       "      <td>47732</td>\n",
       "      <td>18452.0</td>\n",
       "      <td>150.0</td>\n",
       "    </tr>\n",
       "  </tbody>\n",
       "</table>\n",
       "<p>68559 rows × 8 columns</p>\n",
       "</div>"
      ],
      "text/plain": [
       "       event_id    event_type selected_level          start_time  tutorial_id  \\\n",
       "0       80308.0  registration            NaN 2018-01-01 03:48:40          NaN   \n",
       "1       80309.0  registration            NaN 2018-01-01 04:07:25          NaN   \n",
       "2       80310.0  registration            NaN 2018-01-01 08:35:10          NaN   \n",
       "3       80311.0  registration            NaN 2018-01-01 11:54:47          NaN   \n",
       "4       80312.0  registration            NaN 2018-01-01 13:28:07          NaN   \n",
       "...         ...           ...            ...                 ...          ...   \n",
       "68554       NaN      purchase            NaN 2019-01-02 03:48:19          NaN   \n",
       "68555       NaN      purchase            NaN 2019-01-02 23:26:26          NaN   \n",
       "68556       NaN      purchase            NaN 2019-01-03 00:36:36          NaN   \n",
       "68557       NaN      purchase            NaN 2019-01-04 12:51:41          NaN   \n",
       "68558       NaN      purchase            NaN 2019-01-06 07:14:25          NaN   \n",
       "\n",
       "       user_id  purchase_id  amount  \n",
       "0        27832          NaN     NaN  \n",
       "1        27833          NaN     NaN  \n",
       "2        27834          NaN     NaN  \n",
       "3        27835          NaN     NaN  \n",
       "4        27836          NaN     NaN  \n",
       "...        ...          ...     ...  \n",
       "68554    47498      18441.0   100.0  \n",
       "68555    47647      18442.0   150.0  \n",
       "68556    47554      18443.0    50.0  \n",
       "68557    47742      18448.0    50.0  \n",
       "68558    47732      18452.0   150.0  \n",
       "\n",
       "[68559 rows x 8 columns]"
      ]
     },
     "metadata": {},
     "output_type": "display_data"
    }
   ],
   "source": [
    "total_events_df['user_id_2018'] = total_events_df['user_id'].apply(lambda x: 1 if x in user_id_sp else 0)\n",
    "total_events_df_2018 = total_events_df[total_events_df['user_id_2018'] == 1]\n",
    "total_events_df_2018 = total_events_df_2018.drop('user_id_2018', axis=1)\n",
    "\n",
    "total_events_df_2018 = total_events_df_2018.drop_duplicates(ignore_index=True)\n",
    "total_events_df_2018.dropna(subset = ['user_id','start_time','event_type'], axis=0)\n",
    "\n",
    "total_events_df_2018['start_time'] = pd.to_datetime(total_events_df_2018['start_time']) \n",
    "\n",
    "total_events_df_2018.info()\n",
    "display(total_events_df_2018)"
   ]
  },
  {
   "attachments": {},
   "cell_type": "markdown",
   "metadata": {},
   "source": [
    "### *6. Последний \"штрих\" перед началом проверки Гипотез*"
   ]
  },
  {
   "attachments": {},
   "cell_type": "markdown",
   "metadata": {},
   "source": [
    "Наша таблица для исследования готова, но прежде чем приступить к проверке гипотез, узнаем, какие этапы, события пользователи проходили или могли проходить не один раз, чтобы учесть возможность таких повторов в нашем исследовании."
   ]
  },
  {
   "cell_type": "code",
   "execution_count": 8,
   "metadata": {},
   "outputs": [
    {
     "name": "stdout",
     "output_type": "stream",
     "text": [
      "Максимальное число обучений, начатых одним пользователем -  9\n",
      "Максимальное число обучений, оконченных одним пользователем -  9\n",
      "Максимальное число раз выбора уровня сложности одним пользователем -  1\n",
      "Максимальное число раз выбора пакетов вопросов одним пользователем -  1\n",
      "Максимальное число оплат одним пользователем -  1\n"
     ]
    }
   ],
   "source": [
    "print('Максимальное число обучений, начатых одним пользователем - ',\n",
    "    total_events_df_2018[total_events_df_2018['event_type'] == 'tutorial_start'].groupby(\n",
    "    'user_id')['event_type'].count().max())\n",
    "print('Максимальное число обучений, оконченных одним пользователем - ',\n",
    "    total_events_df_2018[total_events_df_2018['event_type'] == 'tutorial_finish'].groupby(\n",
    "    'user_id')['event_type'].count().max())\n",
    "print('Максимальное число раз выбора уровня сложности одним пользователем - ',\n",
    "    total_events_df_2018[total_events_df_2018['event_type'] == 'level_choice'].groupby(\n",
    "    'user_id')['event_type'].count().max())\n",
    "print('Максимальное число раз выбора пакетов вопросов одним пользователем - ',\n",
    "    total_events_df_2018[total_events_df_2018['event_type'] == 'pack_choice'].groupby(\n",
    "    'user_id')['event_type'].count().max())\n",
    "print('Максимальное число оплат одним пользователем - ',\n",
    "    total_events_df_2018[total_events_df_2018['event_type'] == 'purchase'].groupby(\n",
    "    'user_id')['event_type'].count().max())"
   ]
  },
  {
   "attachments": {},
   "cell_type": "markdown",
   "metadata": {},
   "source": [
    "Мы видим, что только этап обучения пользователи могли проходить и проходили не единожды. Учтем это в нашем исследовании."
   ]
  },
  {
   "attachments": {},
   "cell_type": "markdown",
   "metadata": {},
   "source": [
    "### *7. Перейдем к проверке гипотез*"
   ]
  },
  {
   "attachments": {},
   "cell_type": "markdown",
   "metadata": {},
   "source": [
    "### *7.1. Гипотеза №1*"
   ]
  },
  {
   "attachments": {},
   "cell_type": "markdown",
   "metadata": {},
   "source": [
    "Напомним содержание Гипотезы. Мы предположили, что в поведении групп, которые проходят и не проходят обучение, должна быть разница. Но так ли это? Влияет ли обучение на скорость прохождения других этапов игры? Для проверки Гипотезы № 1, нам необходимо сравнить время прохождения различных этапов для пользователей, которые завершили обучение, и пользователей, не начинавших обучение. Если показатель для указанных групп отличается - выяснить, насколько."
   ]
  },
  {
   "attachments": {},
   "cell_type": "markdown",
   "metadata": {},
   "source": [
    "Для начала разделим всех пользователей игры на три группы: 1-я группа будет состоять из тех, кто не начинал обучение, 2-я - из тех, кто начал, но не завершил обучение, 3-я - из тех, кто начал и завершил обучение. Для этого численность всех пользователей, зарегистрированных в 2018 г., разделим на пользователей, не начинавших обучение и пользователей, начинавших обучение. Последние, в свою очередь, будут включать в себя пользователей, не завершивших обучение, и пользователей, завершивших обучение. Почему мы выделяем три, а не две группы, и как мы будем с этими группами работать - выясним ниже, в ходе текущих исследований. "
   ]
  },
  {
   "attachments": {},
   "cell_type": "markdown",
   "metadata": {},
   "source": [
    "Примечание: далее все маски, которые будем использовать в коде, будут выноститься в отдельные ячейки для упрощения возврата к ним (при необходимости). "
   ]
  },
  {
   "cell_type": "code",
   "execution_count": 9,
   "metadata": {},
   "outputs": [],
   "source": [
    "# маски:\n",
    "mask_tutorial_start = total_events_df_2018['event_type'] == 'tutorial_start'\n",
    "mask_tutorial_finish = total_events_df_2018['event_type'] == 'tutorial_finish'"
   ]
  },
  {
   "cell_type": "code",
   "execution_count": 10,
   "metadata": {},
   "outputs": [
    {
     "name": "stdout",
     "output_type": "stream",
     "text": [
      "Всего пользователей, зарегистрированных в 2018 г. - 19926 чел.\n",
      "Всего пользователей, не начинавших обучение - 8068 чел.\n",
      "Всего пользователей, начавших обучение - 11858 чел., в т.ч.:\n",
      "                     не завершивших обучение - 1608 чел.\n",
      "                     завершивших обучение - 10250 чел.\n"
     ]
    }
   ],
   "source": [
    "user_id_tutorial_start = set(total_events_df_2018[mask_tutorial_start]['user_id'].unique())\n",
    "user_id_tutorial_finish = set(total_events_df_2018[mask_tutorial_finish]['user_id'].unique())\n",
    "\n",
    "user_id_tutorial_no_start = user_id_sp.difference(user_id_tutorial_start)\n",
    "user_id_tutorial_start_wo_finish = user_id_tutorial_start.difference(user_id_tutorial_finish)\n",
    "\n",
    "print('Всего пользователей, зарегистрированных в 2018 г. -',len(user_id_sp),'чел.')\n",
    "print('Всего пользователей, не начинавших обучение -',len(user_id_tutorial_no_start),'чел.')\n",
    "print('Всего пользователей, начавших обучение -',len(user_id_tutorial_start),'чел., в т.ч.:')\n",
    "print('                     не завершивших обучение -',len(user_id_tutorial_start_wo_finish),'чел.')\n",
    "print('                     завершивших обучение -',len(user_id_tutorial_finish),'чел.')"
   ]
  },
  {
   "attachments": {},
   "cell_type": "markdown",
   "metadata": {},
   "source": [
    "Далее посмотрим на прохождение этими категориями пользователей различных этапов игры (т.е. изучим пользовательские пути взаимодействия с игрой). Это необходимо прежде всего для того, чтобы во избежание получения ошибочных выводов исключить из наших расчетов пользователей, которые пользователями игры по сути не стали. Так, среди пользователей, не начинавших обучение, мы увидим тех, кто покинул игру после регистрации в ней, так и не приступив ни к одному из последующих этапов."
   ]
  },
  {
   "attachments": {},
   "cell_type": "markdown",
   "metadata": {},
   "source": [
    "\n",
    "Прежде чем определить пользовательские пути взаимодействия с игрой, получим перечни идентификаторов обучения (tutorial_id) из событий \"начало обучения\" и \"окончание обучения\" (tutorial_start, tutorial_finish), исключив из них дубли этих событий (повторные обучения) для каждого отдельного пользователя (мы помним, что только эти события могут повторяться, см. п.6). Перечень tutorial_id из событий tutorial_start будет включать в себя tutorial_id первых (по start_time) начатых обучений только для тех 1608 пользователей, которые ни разу не завершили обучение. Перечень tutorial_id из событий tutorial_finish будет включать в себя tutorial_id первых (по start_time) оконченных обучений для 10250 пользователей, которые завершили обучение. Примечание: в рамках провеки Гипотезы № 1 дубли начала и окончания обучений (повторные обучения) не несут никакой смысловой нагрузки (т.к. данная гипотеза не предусматривает зависимости прохождения этапов игры от количества обучений), а потому подлежат исключению."
   ]
  },
  {
   "cell_type": "code",
   "execution_count": 11,
   "metadata": {},
   "outputs": [],
   "source": [
    "# маска\n",
    "mask_user_id_tutorial_start_wo_finish = total_events_df_2018['user_id'].isin(user_id_tutorial_start_wo_finish)"
   ]
  },
  {
   "cell_type": "code",
   "execution_count": 12,
   "metadata": {},
   "outputs": [
    {
     "name": "stdout",
     "output_type": "stream",
     "text": [
      "1608\n",
      "10250\n"
     ]
    },
    {
     "data": {
      "text/plain": [
       "(array([31511., 31525., 31529., ..., 49496., 49511., 49531.]),\n",
       " array([31506., 31507., 31508., ..., 49552., 49553., 49554.]))"
      ]
     },
     "execution_count": 12,
     "metadata": {},
     "output_type": "execute_result"
    }
   ],
   "source": [
    "tutorial_start_wo_finish_df = total_events_df_2018[(mask_tutorial_start & mask_user_id_tutorial_start_wo_finish)]\n",
    "tutorial_start_wo_finish_wo_duplicates_df = tutorial_start_wo_finish_df.sort_values(\"start_time\").drop_duplicates(\"user_id\")\n",
    "start_wo_finish_tutorial_wo_duplicates_ids = tutorial_start_wo_finish_wo_duplicates_df[\"tutorial_id\"].unique()\n",
    "\n",
    "tutorial_finish_df = total_events_df_2018[mask_tutorial_finish]\n",
    "tutorial_finish_wo_duplicates_df = tutorial_finish_df.sort_values(\"start_time\").drop_duplicates(\"user_id\")\n",
    "first_finish_tutorial_wo_duplicates_ids = tutorial_finish_wo_duplicates_df[\"tutorial_id\"].unique()\n",
    "\n",
    "print(len(start_wo_finish_tutorial_wo_duplicates_ids))\n",
    "print(len(first_finish_tutorial_wo_duplicates_ids))\n",
    "\n",
    "start_wo_finish_tutorial_wo_duplicates_ids, first_finish_tutorial_wo_duplicates_ids"
   ]
  },
  {
   "attachments": {},
   "cell_type": "markdown",
   "metadata": {},
   "source": [
    "Далее, имея очищенные от дублей (от повторных обучений) перечни идентификаторов обучений, определим пользовательские пути взаимодействия с игрой (сортировка будет осуществляться по ключу полученной серии)."
   ]
  },
  {
   "cell_type": "code",
   "execution_count": 13,
   "metadata": {},
   "outputs": [],
   "source": [
    "# маски\n",
    "mask_start_wo_finish_tutorial_wo_duplicates = total_events_df_2018[\"tutorial_id\"].isin(start_wo_finish_tutorial_wo_duplicates_ids)\n",
    "mask_first_finish_tutorial_wo_duplicates = total_events_df_2018[\"tutorial_id\"].isin(first_finish_tutorial_wo_duplicates_ids)"
   ]
  },
  {
   "cell_type": "code",
   "execution_count": 14,
   "metadata": {},
   "outputs": [
    {
     "data": {
      "text/plain": [
       "event_path\n",
       "registration                                                                               7970\n",
       "registration > level_choice                                                                  24\n",
       "registration > level_choice > pack_choice                                                    52\n",
       "registration > level_choice > pack_choice > purchase                                         22\n",
       "registration > tutorial_start                                                               865\n",
       "registration > tutorial_start > level_choice                                                256\n",
       "registration > tutorial_start > level_choice > pack_choice                                  356\n",
       "registration > tutorial_start > level_choice > pack_choice > purchase                       131\n",
       "registration > tutorial_start > tutorial_finish                                            2749\n",
       "registration > tutorial_start > tutorial_finish > level_choice                             2325\n",
       "registration > tutorial_start > tutorial_finish > level_choice > pack_choice               3729\n",
       "registration > tutorial_start > tutorial_finish > level_choice > pack_choice > purchase    1447\n",
       "Name: user_id, dtype: int64"
      ]
     },
     "execution_count": 14,
     "metadata": {},
     "output_type": "execute_result"
    }
   ],
   "source": [
    "total_events_df_2018['tutorial_id']=total_events_df_2018['tutorial_id'].fillna(0)\n",
    "total_events_2018_wo_tut_dupl = total_events_df_2018[\n",
    "    (total_events_df_2018[\"tutorial_id\"] == 0) |\n",
    "    mask_start_wo_finish_tutorial_wo_duplicates |    \n",
    "    mask_first_finish_tutorial_wo_duplicates]\n",
    "user_path_df = (total_events_2018_wo_tut_dupl.groupby([\"user_id\"])[\"event_type\"].apply(list).reset_index())\n",
    "user_path_df[\"event_path\"] = user_path_df[\"event_type\"].apply(lambda x: \" > \".join(x))\n",
    "user_paths = (user_path_df.groupby([\"event_path\"])[\"user_id\"].nunique())\n",
    "user_paths"
   ]
  },
  {
   "attachments": {},
   "cell_type": "markdown",
   "metadata": {},
   "source": [
    "Итак, мы видим, что из всех пользователей, зарегистрированных в 2018 г. и не начинавших обучение (а таких насчитывается, как мы выяснили ранее, 8068 чел.), 7970 человек - это пользователи, которые покинули игру после регистрации, так и не приступив ни к одному из последующих этапов. Скорее всего, эти пользователи зарегистрировались, поверхностно ознакомились с продуктом, поняли, что продукт не отвечает их потребностям и ушли. И дело здесь далеко не в том, что эти пользователи не прошли обучение, ведь они даже не попытались проявить в игре хоть какую-то активность, эти пользователи просто отсеялись по каким-то причинам, не дав нам возможности сравнить их поведение в игре с поведением в игре тех пользователей, которые прошли обучение. Вопрос о наличии и размере такой группы зарегистрирвованных и отсеявшихся пользователей, скорее всего, следует отнести к специалистам, которые занимаются определением и привлечением целевой аудитории, очевидно, что содержание продукта не соответствет интересам и потребностям существенной части (около 40%) привлеченной аудитории. При этом, возможно, следует внести изменения в содержательную часть продукта, но это по-прежнему не отменяет более осмысленного подхода и тщательной работы с определением и привлечением соответствующей целевой аудитории. Таким образом, возвращаясь к группе пользователей, не начинавших обучение, поведение которых нам необходимо изучить для проверки гипотезы № 1, мы видим, что для определения численности такой группы из ее состава необходимо исключить пользователей, отсеявшихся после прохождения регистрации. Таким образом, численность группы пользователей, не начинавших обучение, будет составлять всего 98 человек (8068 - 7970). Что не идет ни в какое сравнение с численностью группы пользователей, завершивших обучение (10250 чел.). Таким образом, группу пользователей, не начинавших обучение, следует рассматривать как некоторую погрешность, а гипотезу несостоятельной, т.к. проверить ее достоверность на представленных данных не представляется возможным. Для выдвижения и проверки подобной гипотезы следовало бы использовать A/B-тестирование. Хотя, кажется, и без того, очевидным, что для пользователя этап обучения сам по себе важен и даже необходим, т.к. почти 86% пользователей из тех, кто не отсеялся после регистрации в игре, проходит обучение до конца (10250/(19926-7970)*100 = 85,7%). "
   ]
  },
  {
   "attachments": {},
   "cell_type": "markdown",
   "metadata": {},
   "source": [
    "Несмотря на несостоятельность Гипотезы № 1 продолжим исследования в этих рамках с тем, чтобы выяснить, возможна ли некоторая корректировка данной гипотезы, а вместе с ней и формализованной задачи, поставленной в рамках ее исследования, которая позволила бы нам получить полезные сведения о взаимодействии пользователей с игрой."
   ]
  },
  {
   "attachments": {},
   "cell_type": "markdown",
   "metadata": {},
   "source": [
    "В начале работы над гипотезой № 1 мы определили, что, на самом деле, имеем дело не с двумя, а с тремя группами: 1-я группа состоит из тех, кто не начинал обучение, 2-я - из тех, кто начал, но не завершил обучение, 3-я - из тех, кто начал и завершил обучение. Это же подтверждается на примере перечня пользовательских путей. Мы видим, что только три последовательности прохождения этапов игры заканчиваются покупкой платных пакетов с вопросами (purchase). Таким же образом определяются \"границы\" интересующих нас групп пользователей данного продукта. Первым этапом на этом пути всегда будет регистрация (registration), целевым - покупка (purchase). При этом не суть важно, что не все полученные последовательности заканчиваются покупкой, главное, что только три пути ведут к ней, следовательно, и пользователей можно объединить в три группы. 1-я группа идет по пути: registration > level_choice > pack_choice > purchase; 2-я - по пути: registration > tutorial_start > level_choice > pack_choice > purchase; 3-я - по пути: registration > tutorial_start > tutorial_finish > level_choice > pack_choice > purchase. При этом не все пользователи, как видим, доходят до целевого этапа покупки (purchase), но они все будут идти только по одному из трех, предложенных разработчиком продукта, вариантов пути (см. приведенные выше последовательности)."
   ]
  },
  {
   "attachments": {},
   "cell_type": "markdown",
   "metadata": {},
   "source": [
    "Таким образом, численность 1-й группы пользователей (не начинавших обучение) - 98 чел., 2-й группы пользователей (начавших, но не закончивших обучение) - 1608 чел. и 3-й группы пользователей (завершивших обучение) - 10250 чел. То же самое подтверждается приведенными выше последовательностями прохождения этапов игры. Численность 3-й группы также в разы превышает численность 2-й группы (в 6,4 раза). Но! Группу, которая в 6,4 раза меньше основной (1608 человек), при этом следует рассматривать, скорее, как некоторый потенциал (небольшой, но все же что-то), чем как погрешность. Поэтому немного скорректируем Гипотезу № 1, а также формализованную задачу в рамках данной гипотезы, и приступим к сравнению 2-й и 3-й групп."
   ]
  },
  {
   "attachments": {},
   "cell_type": "markdown",
   "metadata": {},
   "source": [
    "Гипотеза: предположим, что в поведении групп пользователей, которые начинают, но не заканчивают (2-я группа), или начинают и заканчивают (3-я группа) обучение, должна быть разница. Так ли это? Отличается ли скорость прохождения различных этапов игры указанными группами? Формализованная задача: для проверки Гипотезы, нам необходимо сравнить время прохождения различных этапов игры пользователями, незавершившими (из тех, кто начал) и завершившими обучение. Если показатель для указанных групп отличается - выяснить, насколько."
   ]
  },
  {
   "attachments": {},
   "cell_type": "markdown",
   "metadata": {},
   "source": [
    "Приступим. Для начала нам необходимо определиться с отправной точкой, т.е. с тем, какой этап следует принять за начальный для нашего исследования. Регистрацию? Начало обучения? Окончание обучения? Но мы знаем, что пользователи одной из рассматриваемых нами групп начинали, но не заканчивали обучение, следовательно, мы не можем отталкиваться от этапа окончания обучения, с тем чтобы выявить его влияние на последующий процесс. Более того, причиной разного поведения групп может оказаться не только или не столько факт оконченного или неоконченного обучениия, сколько разная ментальность, разный темперамент, разные навыки и способности пользователей из разных групп. Т.е. суть вопроса может оказаться не в том или не только в том, что на этапе обучения у какой-то группы пользователей возникли сложности с его прохождением и это негативно отразилось на их дальшем поведении, или что пользователь по какой-то причине не захотел довести процесс обучения до конца, а потому столкнулся с трудностями на следующих этапах (что мы и предполагаем, говоря о ВЛИЯНИИ обучения на поведение пользователей), но и в том, что такая группа пользователей, неокончивших обучение, могла сложиться в силу каких-то других особенностей членов этой группы (эти группы, например, могут состоять из пользователей примерно одного возраста внутри группы и разных возрастов по отношению к друг другу, могут состоять из пользователей с разными (по отношению групп друг к другу) пользовательскими навыками, разной ментальностью (например, есть люди, которые изучают инструкцию, прежде чем начать пользоваться какой-то новой вещью, а есть те, кто в них даже не заглядывает и предпочитает изучать все методом \"тыка\") и т.д., и, конечно, в этом случае речь не идет о ВЛИЯНИИ обучения в том смысле, в котором оно было использовано выше). Поэтому, для того чтобы нам изначально не загонять себя в какие-то нами же установленные рамки и, по-возможности, минимизировать погрешность будущих результатов и уйти от ошибкок в выводах, не будем брать за точку отсчета и начало обучения, т.к. разница в поведении может выявиться еще до начала обучения, т.е. посмотрим, для интереса, и то, как скоро пользователи одной и другой групп принимают решение о прохождении обучения. Т.о. регистрацию пользователей в игре примем за точку отсчета."
   ]
  },
  {
   "attachments": {},
   "cell_type": "markdown",
   "metadata": {},
   "source": [
    "Теперь нам нужно понять, что делать со временем обучения, как учитыть его в нашем исследовании. Ведь если обучение само по себе отнимает много времени, а, как нам известно, одна из рассматриваемых нами групп пользователей не завершила его, а, возможно, не прошла его и наполовину, тогда, без соответствующего учета в нашем исследовании указаного времени, мы исходно ставим изучаемые нами группы в неравное положение и рискуем заложить ошибку в наши рассчеты (т.к. за отправную приняли этап регистрации). Но если время обучения окажется непродолжительным, тогда мы сможем посчитать, что никакой существенной погрешности оно не дает, и вносить корректировки в наши расчеты в связи с этим мы не будем, а этап tutorial_finish пропустим, как будто его и не было. Итак определим среднюю продолжительность обучения пользователей."
   ]
  },
  {
   "cell_type": "code",
   "execution_count": 15,
   "metadata": {},
   "outputs": [
    {
     "name": "stdout",
     "output_type": "stream",
     "text": [
      "0 days 00:03:52.854634146\n"
     ]
    }
   ],
   "source": [
    "events_tutorial_start_with_finish_tutorial = total_events_df_2018[\n",
    "    mask_first_finish_tutorial_wo_duplicates & mask_tutorial_start].rename(columns={\"start_time\":\"tutorial_start_time\"})\n",
    "\n",
    "events_tutorial_finish_with_finish_tutorial = total_events_df_2018[\n",
    "    mask_first_finish_tutorial_wo_duplicates & mask_tutorial_finish].rename(columns={\"start_time\":\"tutorial_finish_time\"})\n",
    "\n",
    "events_with_finish_tutorial_merged_t = events_tutorial_start_with_finish_tutorial.merge(\n",
    "    events_tutorial_finish_with_finish_tutorial, on=\"user_id\", how=\"inner\")\n",
    "\n",
    "events_with_finish_tutorial_merged_t['timedelta'] = events_with_finish_tutorial_merged_t[\n",
    "    'tutorial_finish_time'] - events_with_finish_tutorial_merged_t['tutorial_start_time']\n",
    "\n",
    "tutorial_with_finish_tutorial_timedelta_t_mean = events_with_finish_tutorial_merged_t['timedelta'].mean()\n",
    "\n",
    "print(tutorial_with_finish_tutorial_timedelta_t_mean)"
   ]
  },
  {
   "cell_type": "code",
   "execution_count": 16,
   "metadata": {},
   "outputs": [
    {
     "name": "stdout",
     "output_type": "stream",
     "text": [
      "                       timedelta\n",
      "count                      10250\n",
      "mean   0 days 00:03:52.854634146\n",
      "std    0 days 00:01:44.733337799\n",
      "min              0 days 00:00:16\n",
      "25%              0 days 00:02:27\n",
      "50%              0 days 00:03:42\n",
      "75%              0 days 00:05:07\n",
      "max              0 days 00:10:06\n"
     ]
    }
   ],
   "source": [
    "print(events_with_finish_tutorial_merged_t.describe(include='timedelta'))"
   ]
  },
  {
   "attachments": {},
   "cell_type": "markdown",
   "metadata": {},
   "source": [
    "Мы видим, что средняя скорость обучения составляет чуть меньше 4-х минут. Таким образом, какой бы игра не была, длительность в 3-4 минуты, скорее всего, для любой игры будет являться несущественной величиной. Поэтому в наших дальнейших расчетах длительностью обучения можно пренебречь и включить ее в длительность между такими этапами игры, как начало обучения и выбор уровня сложности (tutorial_start > level_choice). Но как бы там ни было, после определения средней длительности прочих этапов игры (что необходимо будет сделать далее) мы сможем сравнить среднюю длительность обучения со средней длительностью прочих этапов игры и убедиться в том, действительно ли, первая несущественна по сравнению со вторыми."
   ]
  },
  {
   "attachments": {},
   "cell_type": "markdown",
   "metadata": {},
   "source": [
    "Далее для двух групп пользователей (начавших, но не закончивших обучение, а также начавших и закончивших обучение) расcчитаем среднюю скорость прохождениия всех (за исключением tutorial_finish) этапов игры, начиная с регистрации. И сравним полученную скорость."
   ]
  },
  {
   "cell_type": "code",
   "execution_count": 17,
   "metadata": {},
   "outputs": [],
   "source": [
    "# маски\n",
    "mask_without_finish_tutorial = total_events_df_2018['user_id'].isin(user_id_tutorial_start_wo_finish)\n",
    "mask_with_finish_tutorial = total_events_df_2018['user_id'].isin(user_id_tutorial_finish)\n",
    "\n",
    "mask_registration = total_events_df_2018['event_type'] == 'registration'\n",
    "mask_level_choice = total_events_df_2018['event_type'] == 'level_choice'\n",
    "mask_pack_choice = total_events_df_2018['event_type'] == 'pack_choice'\n",
    "mask_purchase = total_events_df_2018['event_type'] == 'purchase'"
   ]
  },
  {
   "attachments": {},
   "cell_type": "markdown",
   "metadata": {},
   "source": [
    "### Cкорость прохождения игры от этапа регистрации до начала обучения"
   ]
  },
  {
   "cell_type": "code",
   "execution_count": 18,
   "metadata": {},
   "outputs": [
    {
     "name": "stdout",
     "output_type": "stream",
     "text": [
      "0 days 05:25:02.892412935\n",
      "0 days 04:39:25.906634146\n"
     ]
    }
   ],
   "source": [
    "# ...пользователями, не окончившими обучение:\n",
    "events_registration_without_finish_tutorial = total_events_df_2018[\n",
    "    mask_without_finish_tutorial & mask_registration].rename(columns={\"start_time\":\"registration_time\"}) \n",
    "\n",
    "events_tutorial_start_without_finish_tutorial = total_events_df_2018[\n",
    "    mask_start_wo_finish_tutorial_wo_duplicates & mask_tutorial_start].rename(columns={\"start_time\":\"tutorial_start_time\"})\n",
    "\n",
    "events_without_finish_tutorial_merged_1 = events_registration_without_finish_tutorial.merge(\n",
    "    events_tutorial_start_without_finish_tutorial, on=\"user_id\", how=\"inner\")\n",
    "\n",
    "events_without_finish_tutorial_merged_1['timedelta'] = events_without_finish_tutorial_merged_1[\n",
    "    'tutorial_start_time'] - events_without_finish_tutorial_merged_1['registration_time']\n",
    "\n",
    "level_choice_without_finish_tutorial_timedelta_1_mean = events_without_finish_tutorial_merged_1['timedelta'].mean()\n",
    "\n",
    "print(level_choice_without_finish_tutorial_timedelta_1_mean)\n",
    "\n",
    "# ...пользователями, окончившими обучение:\n",
    "events_registration_with_finish_tutorial = total_events_df_2018[\n",
    "    mask_with_finish_tutorial & mask_registration].rename(columns={\"start_time\":\"registration_time\"})\n",
    "\n",
    "events_tutorial_start_with_finish_tutorial = total_events_df_2018[\n",
    "    mask_first_finish_tutorial_wo_duplicates & mask_tutorial_start].rename(columns={\"start_time\":\"tutorial_start_time\"})\n",
    "\n",
    "events_with_finish_tutorial_merged_1 = events_registration_with_finish_tutorial.merge(\n",
    "    events_tutorial_start_with_finish_tutorial, on=\"user_id\", how=\"inner\")\n",
    "\n",
    "events_with_finish_tutorial_merged_1['timedelta'] = events_with_finish_tutorial_merged_1[\n",
    "    'tutorial_start_time'] - events_with_finish_tutorial_merged_1['registration_time']\n",
    "\n",
    "level_choice_with_finish_tutorial_timedelta_1_mean = events_with_finish_tutorial_merged_1['timedelta'].mean()\n",
    "\n",
    "print(level_choice_with_finish_tutorial_timedelta_1_mean)"
   ]
  },
  {
   "cell_type": "code",
   "execution_count": 19,
   "metadata": {},
   "outputs": [
    {
     "name": "stdout",
     "output_type": "stream",
     "text": [
      "                       timedelta\n",
      "count                       1608\n",
      "mean   0 days 05:25:02.892412935\n",
      "std    0 days 04:33:22.569938660\n",
      "min              0 days 00:02:34\n",
      "25%              0 days 01:45:47\n",
      "50%       0 days 04:23:49.500000\n",
      "75%              0 days 07:50:33\n",
      "max              1 days 06:03:23\n",
      "\n",
      "                       timedelta\n",
      "count                      10250\n",
      "mean   0 days 04:39:25.906634146\n",
      "std    0 days 04:15:16.895092174\n",
      "min              0 days 00:00:34\n",
      "25%       0 days 01:23:32.750000\n",
      "50%              0 days 03:22:35\n",
      "75%              0 days 06:49:05\n",
      "max              1 days 16:03:46\n"
     ]
    }
   ],
   "source": [
    "print(events_without_finish_tutorial_merged_1.describe(include='timedelta'))\n",
    "print('')\n",
    "print(events_with_finish_tutorial_merged_1.describe(include='timedelta'))"
   ]
  },
  {
   "attachments": {},
   "cell_type": "markdown",
   "metadata": {},
   "source": [
    "Мы видим, что уже на этапе перехода от регистрации к обучению группа пользователей, не закончивших обучение, тратит времени в среднем на 46 минут больше, чем группа пользователей, закончивших обучение. Таким образом, мы можем убедиться в том, что не только обучение влияет на скорость прохождения этапов игры, т.к. найденная нами разница в скорости прохождения игры разными группами сложилась еще до прохождения ими обучения. Кроме того, средние значения скорости прохождения этапов игры пользователями обеих групп больше её медианных значений (на час и час-пятнадцать, соответственно), что говорит нам о неравномерном распределении значений, а именно о большей скученности значений показателя для первой половины пользователей (до медианного значения) и большем разбросе значений показателя для второй половины пользователей (после медианного значения) в обеих группах, в чем мы сможем убедиться ниже при рассмотрении коробчатой диаграммы."
   ]
  },
  {
   "cell_type": "code",
   "execution_count": 20,
   "metadata": {},
   "outputs": [],
   "source": [
    "# приведение таймдельты в числовой формат\n",
    "def to_numeric(timedelta):\n",
    "    td = str(timedelta).split('days')\n",
    "    td_1 = td[0]\n",
    "    td_2 = td[1].split(':')\n",
    "    td_2.append(td_1)\n",
    "    hours = round((int(td_2[0])*3600 + int(td_2[1])*60 + int(td_2[2]) + int(td_2[3])*86400)/60/60,5)\n",
    "    return hours"
   ]
  },
  {
   "cell_type": "code",
   "execution_count": null,
   "metadata": {},
   "outputs": [],
   "source": []
  },
  {
   "attachments": {},
   "cell_type": "markdown",
   "metadata": {},
   "source": [
    "Построение коробчатой диаграммы"
   ]
  },
  {
   "cell_type": "code",
   "execution_count": 21,
   "metadata": {},
   "outputs": [
    {
     "data": {
      "image/png": "[encoded data removed]",
      "text/plain": [
       "<Figure size 1000x500 with 1 Axes>"
      ]
     },
     "metadata": {},
     "output_type": "display_data"
    }
   ],
   "source": [
    "events_without_finish_tutorial_merged_1['group']  = 'without_finish_tutorial'\n",
    "events_without_finish_tutorial_merged_1['stage']  = 'tutorial_start'\n",
    "events_without_finish_tutorial_merged_1 = events_without_finish_tutorial_merged_1[\n",
    "    ['user_id','timedelta','stage','group']]\n",
    "\n",
    "events_with_finish_tutorial_merged_1['group']  = 'with_finish_tutorial'\n",
    "events_with_finish_tutorial_merged_1['stage']  = 'tutorial_start'\n",
    "events_with_finish_tutorial_merged_1 = events_with_finish_tutorial_merged_1[\n",
    "    ['user_id','timedelta','stage','group']]\n",
    "\n",
    "merged_tutorial_start_stage = events_without_finish_tutorial_merged_1.merge(\n",
    "    events_with_finish_tutorial_merged_1,\n",
    "    on=['user_id','timedelta','stage','group'],\n",
    "    how='outer')\n",
    "\n",
    "merged_tutorial_start_stage['timedelta'] = merged_tutorial_start_stage['timedelta'].apply(to_numeric)\n",
    "\n",
    "\n",
    "fig = plt.figure(figsize=(10, 5))\n",
    "boxplot = sns.boxplot(\n",
    "    data=merged_tutorial_start_stage,\n",
    "    y= 'stage',\n",
    "    x= 'timedelta',\n",
    "    hue='group',\n",
    "    orient='h',  \n",
    "    width=0.7\n",
    ")\n",
    "boxplot.set_title('Скорость перехода к началу обучения');\n",
    "boxplot.set_xlabel('timedelta, hour');\n",
    "boxplot.set_ylabel('stage');\n",
    "boxplot.grid()"
   ]
  },
  {
   "attachments": {},
   "cell_type": "markdown",
   "metadata": {},
   "source": [
    "На диаграмме видно, что почти все пользователи, не закончившие обучение, на переход от регистрации к началу обучения тратят времени больше, чем пользователи, закончившие обучение. И межквартильный размах рассматриваемых значений для группы пользователей, не закончивших обучение, шире, чем для группы пользователей, закончивших обучение. И то, и другое, помимо прочего, может также означать бОльшую мотивированность пользователей, которые проходят обучение до конца. Мы также видим, что разброс значений показателя скорости прохождения этапов игры для первых 50-ти %%-в пользователей (до медианного значения) меньше, чем - для вторых 50-ти %%-в в обеих группах, что говорит о неравномерности распределения значений показателя для обеих групп. Кроме того, значения скорости прохождения этапов игры второй половиной пользователей содержит довольно много выбросов."
   ]
  },
  {
   "attachments": {},
   "cell_type": "markdown",
   "metadata": {},
   "source": [
    "### Cкорость прохождения игры от начала обучения до выбора уровня сложности"
   ]
  },
  {
   "cell_type": "code",
   "execution_count": 22,
   "metadata": {},
   "outputs": [
    {
     "name": "stdout",
     "output_type": "stream",
     "text": [
      "0 days 02:47:28.088829071\n",
      "0 days 02:23:39.903479536\n"
     ]
    }
   ],
   "source": [
    "# ...пользователями, не окончившими обучение:\n",
    "events_level_choice_without_finish_tutorial = total_events_df_2018[\n",
    "    mask_without_finish_tutorial & mask_level_choice].rename(columns={\"start_time\":\"level_choice_time\"})\n",
    "\n",
    "events_without_finish_tutorial_merged_2 = events_tutorial_start_without_finish_tutorial.merge(\n",
    "    events_level_choice_without_finish_tutorial, on=\"user_id\", how=\"inner\")\n",
    "\n",
    "events_without_finish_tutorial_merged_2['timedelta'] = events_without_finish_tutorial_merged_2[\n",
    "    'level_choice_time'] - events_without_finish_tutorial_merged_2['tutorial_start_time']\n",
    "\n",
    "level_choice_without_finish_tutorial_timedelta_2_mean = events_without_finish_tutorial_merged_2['timedelta'].mean()\n",
    "\n",
    "print(level_choice_without_finish_tutorial_timedelta_2_mean)\n",
    "\n",
    "# ...пользователями, окончившими обучение:\n",
    "events_level_choice_with_finish_tutorial = total_events_df_2018[\n",
    "    mask_with_finish_tutorial & mask_level_choice].rename(columns={\"start_time\":\"level_choice_time\"})\n",
    "\n",
    "events_with_finish_tutorial_merged_2 = events_tutorial_start_with_finish_tutorial.merge(\n",
    "    events_level_choice_with_finish_tutorial, on=\"user_id\", how=\"inner\")\n",
    "\n",
    "events_with_finish_tutorial_merged_2['timedelta'] = events_with_finish_tutorial_merged_2[\n",
    "    'level_choice_time'] - events_with_finish_tutorial_merged_2['tutorial_start_time']\n",
    "level_choice_with_finish_tutorial_timedelta_2_mean = events_with_finish_tutorial_merged_2['timedelta'].mean()\n",
    "\n",
    "print(level_choice_with_finish_tutorial_timedelta_2_mean)"
   ]
  },
  {
   "cell_type": "code",
   "execution_count": 23,
   "metadata": {},
   "outputs": [
    {
     "name": "stdout",
     "output_type": "stream",
     "text": [
      "                       timedelta\n",
      "count                        743\n",
      "mean   0 days 02:47:28.088829071\n",
      "std    0 days 01:42:58.752826263\n",
      "min              0 days 00:02:05\n",
      "25%              0 days 01:27:58\n",
      "50%              0 days 02:42:43\n",
      "75%       0 days 04:01:45.500000\n",
      "max              0 days 07:08:18\n",
      "\n",
      "                       timedelta\n",
      "count                       7501\n",
      "mean   0 days 02:23:39.903479536\n",
      "std    0 days 01:25:03.022412729\n",
      "min              0 days 00:02:25\n",
      "25%              0 days 01:12:56\n",
      "50%              0 days 02:18:04\n",
      "75%              0 days 03:27:59\n",
      "max              0 days 06:42:54\n"
     ]
    }
   ],
   "source": [
    "print(events_without_finish_tutorial_merged_2.describe(include='timedelta'))\n",
    "print('')\n",
    "print(events_with_finish_tutorial_merged_2.describe(include='timedelta'))"
   ]
  },
  {
   "attachments": {},
   "cell_type": "markdown",
   "metadata": {},
   "source": [
    "Группе пользователей, не закончивших обучение, в среднем требуется на 24 минуты больше времени для перехода от начала обучения к выбору уровня сложности, чем группе, закончившей обучение. Можно предположить, что к числу факторов, повлиявших на сокращение разницы в скорости перехода от предыдущего этапа к последующему для двух групп пользователей, можно отнести уход менее мотивированной и, возможно, менее подготовленной для прохождения игры части пользователей из группы, не закончивших обучение. Мы видим, что эта группа сократилась больше, чем на половину ((1608-743)/1608x100 = 53,8% пользователей, не закончивших обучение, покинули игру до выбора уровня сложности). Среди пользователей, закончивших обучение, этот процент, процент выхода оказался меньше ((10250-7501)/10250x100 = 26,8% пользователей, закончивших обучение, покинули игру до выбора уровня сложности), что еще раз подтверждает бОльшую мотивированность у представителей этой группы. Средние значения показателя скорости близки к медианным, а стандартные отклонения значений показателя для обеих групп по сравнению с предыдущим этапом заметно сокращаются, что говорит о более равномерном, по сравнению с предыдущим этапом, распределении значений показателя, из чего, скорее всего, следует, что группы становятся более \"уравновешенными\", более однородными, т.к. пользователи, менее мотивированные и менее подготовленные к прохождению игры из нее выходят."
   ]
  },
  {
   "attachments": {},
   "cell_type": "markdown",
   "metadata": {},
   "source": [
    "Построим коробчатую диаграмму показателя скорости для двух групп пользователей."
   ]
  },
  {
   "cell_type": "code",
   "execution_count": 24,
   "metadata": {},
   "outputs": [
    {
     "data": {
      "image/png": "[encoded data removed]",
      "text/plain": [
       "<Figure size 700x500 with 1 Axes>"
      ]
     },
     "metadata": {},
     "output_type": "display_data"
    }
   ],
   "source": [
    "events_without_finish_tutorial_merged_2['group']  = 'without_finish_tutorial'\n",
    "events_without_finish_tutorial_merged_2['stage']  = 'level_choice'\n",
    "events_without_finish_tutorial_merged_2 = events_without_finish_tutorial_merged_2[\n",
    "    ['user_id','timedelta','stage','group']] \n",
    "\n",
    "events_with_finish_tutorial_merged_2['group']  = 'with_finish_tutorial'\n",
    "events_with_finish_tutorial_merged_2['stage']  = 'level_choice'\n",
    "events_with_finish_tutorial_merged_2 = events_with_finish_tutorial_merged_2[\n",
    "    ['user_id','timedelta','stage','group']]\n",
    "\n",
    "merged_level_choice_stage = events_without_finish_tutorial_merged_2.merge(\n",
    "    events_with_finish_tutorial_merged_2,\n",
    "    on=['user_id','timedelta','stage','group'],\n",
    "    how='outer')\n",
    "\n",
    "merged_level_choice_stage['timedelta'] = merged_level_choice_stage['timedelta'].apply(to_numeric)\n",
    "\n",
    "\n",
    "fig = plt.figure(figsize=(7, 5))\n",
    "boxplot = sns.boxplot(\n",
    "    data=merged_level_choice_stage,\n",
    "    y='stage',\n",
    "    x= 'timedelta',\n",
    "    hue='group',\n",
    "    orient='h',  \n",
    "    width=0.7\n",
    ")\n",
    "boxplot.set_title('Скорость перехода к выбору уровня сложности');\n",
    "boxplot.set_xlabel('timedelta, hour');\n",
    "boxplot.set_ylabel('stage');\n",
    "boxplot.grid()"
   ]
  },
  {
   "attachments": {},
   "cell_type": "markdown",
   "metadata": {},
   "source": [
    "В целом картина такая же как и на предыдущем этапе с одной лишь раницей: значения показателя, как отмечалось выше, становятся более \"уравновешенными\" и однородными, размах значений показателя заметно сокращается."
   ]
  },
  {
   "attachments": {},
   "cell_type": "markdown",
   "metadata": {},
   "source": [
    "### Cкорость прохождения игры от выбора уровня сложности до выбора пакета бесплатных вопросов"
   ]
  },
  {
   "cell_type": "code",
   "execution_count": 25,
   "metadata": {},
   "outputs": [
    {
     "name": "stdout",
     "output_type": "stream",
     "text": [
      "0 days 00:05:05.295687885\n",
      "0 days 00:05:18.146058732\n"
     ]
    }
   ],
   "source": [
    "# ...пользователями, не окончившими обучение:\n",
    "events_pack_choice_without_finish_tutorial = total_events_df_2018[\n",
    "    mask_without_finish_tutorial & mask_pack_choice].rename(columns={\"start_time\":\"pack_choice_time\"})\n",
    "\n",
    "events_without_finish_tutorial_merged_3 = events_level_choice_without_finish_tutorial.merge(\n",
    "    events_pack_choice_without_finish_tutorial, on=\"user_id\", how=\"inner\")\n",
    "\n",
    "events_without_finish_tutorial_merged_3['timedelta'] = events_without_finish_tutorial_merged_3[\n",
    "    'pack_choice_time'] - events_without_finish_tutorial_merged_3['level_choice_time']\n",
    "\n",
    "pack_choice_without_finish_tutorial_timedelta_3_mean = events_without_finish_tutorial_merged_3['timedelta'].mean()\n",
    "\n",
    "print(pack_choice_without_finish_tutorial_timedelta_3_mean)\n",
    "\n",
    "# ...пользователями, окончившими обучение:\n",
    "events_pack_choice_with_finish_tutorial = total_events_df_2018[\n",
    "    mask_with_finish_tutorial & mask_pack_choice].rename(columns={\"start_time\":\"pack_choice_time\"})\n",
    "\n",
    "events_with_finish_tutorial_merged_3 = events_level_choice_with_finish_tutorial.merge(\n",
    "    events_pack_choice_with_finish_tutorial, on=\"user_id\", how=\"inner\")\n",
    "\n",
    "events_with_finish_tutorial_merged_3['timedelta'] = events_with_finish_tutorial_merged_3[\n",
    "    'pack_choice_time'] - events_with_finish_tutorial_merged_3['level_choice_time']\n",
    "\n",
    "pack_choice_with_finish_tutorial_timedelta_3_mean = events_with_finish_tutorial_merged_3['timedelta'].mean()\n",
    "\n",
    "print(pack_choice_with_finish_tutorial_timedelta_3_mean)"
   ]
  },
  {
   "cell_type": "code",
   "execution_count": 26,
   "metadata": {},
   "outputs": [
    {
     "name": "stdout",
     "output_type": "stream",
     "text": [
      "                       timedelta\n",
      "count                        487\n",
      "mean   0 days 00:05:05.295687885\n",
      "std    0 days 00:02:35.198952502\n",
      "min              0 days 00:00:24\n",
      "25%              0 days 00:03:04\n",
      "50%              0 days 00:04:48\n",
      "75%              0 days 00:06:37\n",
      "max              0 days 00:15:39\n",
      "\n",
      "                       timedelta\n",
      "count                       5176\n",
      "mean   0 days 00:05:18.146058732\n",
      "std    0 days 00:02:44.449118501\n",
      "min              0 days 00:00:19\n",
      "25%              0 days 00:03:05\n",
      "50%              0 days 00:04:58\n",
      "75%              0 days 00:07:11\n",
      "max              0 days 00:15:48\n"
     ]
    }
   ],
   "source": [
    "print(events_without_finish_tutorial_merged_3.describe(include='timedelta'))\n",
    "print('')\n",
    "print(events_with_finish_tutorial_merged_3.describe(include='timedelta'))"
   ]
  },
  {
   "attachments": {},
   "cell_type": "markdown",
   "metadata": {},
   "source": [
    "Этап выбора пакета бесплатных вопросов следует непосредственно сразу после выбора уровня сложности и он очень непродолжительный, от пары десятков секунд до 15-16 минут. Для перехода от выбора уровня сложности до выбора пакета бесплатных вопросов группе пользователей, не закончивших обучение, в среднем требуется на 13 секунд меньше времени, чем пользователям, закончившим обучение. Такую разницу вряд ли можно считать существенной и вряд ли на этой основе мы можем делать какие-то выводы."
   ]
  },
  {
   "attachments": {},
   "cell_type": "markdown",
   "metadata": {},
   "source": [
    "### Cкорость прохождения игры от выбора пакета бесплатных вопросов до оплаты"
   ]
  },
  {
   "cell_type": "code",
   "execution_count": 27,
   "metadata": {},
   "outputs": [
    {
     "name": "stdout",
     "output_type": "stream",
     "text": [
      "3 days 21:14:46.908396946\n",
      "3 days 17:17:59.641326883\n"
     ]
    }
   ],
   "source": [
    "# ...пользователями, не окончившими обучение:\n",
    "events_purchase_without_finish_tutorial = total_events_df_2018[\n",
    "    mask_without_finish_tutorial & mask_purchase].rename(columns={\"start_time\":\"purchase_time\"})\n",
    "\n",
    "events_without_finish_tutorial_merged_4 = events_pack_choice_without_finish_tutorial.merge(\n",
    "    events_purchase_without_finish_tutorial, on=\"user_id\", how=\"inner\")\n",
    "\n",
    "events_without_finish_tutorial_merged_4['timedelta'] = events_without_finish_tutorial_merged_4[\n",
    "    'purchase_time'] - events_without_finish_tutorial_merged_4['pack_choice_time']\n",
    "\n",
    "purchase_without_finish_tutorial_timedelta_4_mean = events_without_finish_tutorial_merged_4['timedelta'].mean()\n",
    "\n",
    "print(purchase_without_finish_tutorial_timedelta_4_mean)\n",
    "\n",
    "# ...пользователями, окончившими обучение:\n",
    "events_purchase_with_finish_tutorial = total_events_df_2018[\n",
    "    mask_with_finish_tutorial & mask_purchase].rename(columns={\"start_time\":\"purchase_time\"})\n",
    "\n",
    "events_with_finish_tutorial_merged_4 = events_pack_choice_with_finish_tutorial.merge(\n",
    "    events_purchase_with_finish_tutorial, on=\"user_id\", how=\"inner\")\n",
    "\n",
    "events_with_finish_tutorial_merged_4['timedelta'] = events_with_finish_tutorial_merged_4[\n",
    "    'purchase_time'] - events_with_finish_tutorial_merged_4['pack_choice_time']\n",
    "\n",
    "purchase_with_finish_tutorial_timedelta_4_mean = events_with_finish_tutorial_merged_4['timedelta'].mean()\n",
    "\n",
    "print(purchase_with_finish_tutorial_timedelta_4_mean)"
   ]
  },
  {
   "cell_type": "code",
   "execution_count": 28,
   "metadata": {},
   "outputs": [
    {
     "name": "stdout",
     "output_type": "stream",
     "text": [
      "                       timedelta\n",
      "count                        131\n",
      "mean   3 days 21:14:46.908396946\n",
      "std    2 days 05:36:49.125505005\n",
      "min              0 days 05:29:38\n",
      "25%       1 days 22:35:28.500000\n",
      "50%              3 days 19:11:35\n",
      "75%              5 days 13:41:45\n",
      "max              8 days 15:27:43\n",
      "\n",
      "                       timedelta\n",
      "count                       1447\n",
      "mean   3 days 17:17:59.641326883\n",
      "std    2 days 04:31:59.804658578\n",
      "min              0 days 00:44:50\n",
      "25%       1 days 21:16:05.500000\n",
      "50%              3 days 12:15:56\n",
      "75%       5 days 08:53:44.500000\n",
      "max             10 days 18:33:59\n"
     ]
    }
   ],
   "source": [
    "print(events_without_finish_tutorial_merged_4.describe(include='timedelta'))\n",
    "print('')\n",
    "print(events_with_finish_tutorial_merged_4.describe(include='timedelta'))"
   ]
  },
  {
   "attachments": {},
   "cell_type": "markdown",
   "metadata": {},
   "source": [
    " Мы видим, что для перехода от выбора пакета бесплатных вопросов до покупки пакетов с вопросами группе пользователей, не закончивших обучение, в среднем требуется почти на 4 часа больше времени, чем пользователям, закончившим обучение. Но здесь следует обратить внимание на среднюю продолжительность текущего этапа в целом, и признать, что 4 часа в рамках более чем 3-х с половиной дней (т.е. разница между 93 и 89 часами, соответственно) - это совсем не большой промежуток времени. Разбег в 4 часа в течение одного из (почти) четырех дней может объясняться, например, средним возрастом членов групп и их загруженностью, занятостью. Так, если сравнить, например, младших школьников со старшими или школьников со студентами ВУЗов и т.д., то станет очевидным, что каждая из этих групп, в среднем, живет в своем, отличном от других, режиме. И тогда разницу в 4 часа из более чем 3-х с половиной дней сложно объяснить тем, что именно 3-4-х минутное (а за такое короткое время сложно передать какие-то серьезные навыки, можно лишь показать, как производить те или иные, достаточно примитивные, действия) обучение помогает увеличить скорость прохождения игры. Кроме того, стоит обратить внимание и на размер группы пользователей, не закончивших обучение и купивших пакеты с вопросами. Эта группа состоит всего из 131 пользователя, что не только в 11 раз меньше численности группы пользователей, закончивших обучение и купивших пакеты с вопросами, но и вряд ли делает ее репрезентативной выборкой. Кроме того, мы видим, что группа пользователей, не закончивших обучение, понесла \"бОльшие потери\" по сравнению со второй группой (в начале \"пути\" кратность численности групп составляла 6,4 раза, сейчас - 11 раз). Такой, более сильный, отсев из группы пользователей, не закончивших обучение, еще раз подтверждает меньшую мотивированность и подготовленность указанной группы к прохождению игры.\n",
    " \n",
    " Примечание: Пример с разновозрастными группами - это только пример, который был взят с потолка, но пример, скорее, демонстрирующий несостоятельность нашей гипотезы. И причину различной скорости прохождения различными группами пользователей этапов игры, скорее всего, следует искать не в обучении, а в чем-то другом. Но для этого необходимо иметь больше сведений о пользователях."
   ]
  },
  {
   "attachments": {},
   "cell_type": "markdown",
   "metadata": {},
   "source": [
    "Итак, посмотрим, как будут выглядеть на коробчатой диаграмме показатели скорости прохождения этапа от выбора пакета бесплатных вопросов до оплаты для двух групп пользователей."
   ]
  },
  {
   "cell_type": "code",
   "execution_count": 29,
   "metadata": {},
   "outputs": [
    {
     "data": {
      "image/png": "[encoded data removed]",
      "text/plain": [
       "<Figure size 1200x500 with 1 Axes>"
      ]
     },
     "metadata": {},
     "output_type": "display_data"
    }
   ],
   "source": [
    "events_without_finish_tutorial_merged_4['group']  = 'without_finish_tutorial'\n",
    "events_without_finish_tutorial_merged_4['stage']  = 'purchase'\n",
    "events_without_finish_tutorial_merged_4 = events_without_finish_tutorial_merged_4[\n",
    "    ['user_id','timedelta','stage','group']]\n",
    "\n",
    "events_with_finish_tutorial_merged_4['group']  = 'with_finish_tutorial'\n",
    "events_with_finish_tutorial_merged_4['stage']  = 'purchase'\n",
    "events_with_finish_tutorial_merged_4 = events_with_finish_tutorial_merged_4[\n",
    "    ['user_id','timedelta','stage','group']]\n",
    "\n",
    "merged_purchase_stage = events_without_finish_tutorial_merged_4.merge(\n",
    "    events_with_finish_tutorial_merged_4,\n",
    "    on=['user_id','timedelta','stage','group'],\n",
    "    how='outer')\n",
    "\n",
    "merged_purchase_stage['timedelta'] = merged_purchase_stage['timedelta'].apply(to_numeric)\n",
    "\n",
    "\n",
    "fig = plt.figure(figsize=(12, 5))\n",
    "boxplot = sns.boxplot(\n",
    "    data=merged_purchase_stage,\n",
    "    y='stage',\n",
    "    x= 'timedelta',\n",
    "    hue='group',\n",
    "    orient='h',  \n",
    "    width=0.7\n",
    ")\n",
    "boxplot.set_title('Скорость перехода к оплате');\n",
    "boxplot.set_xlabel('timedelta, hour');\n",
    "boxplot.set_ylabel('stage');\n",
    "boxplot.grid()"
   ]
  },
  {
   "attachments": {},
   "cell_type": "markdown",
   "metadata": {},
   "source": [
    "Полученная картина похожа на все предыдущие, но с той лишь разницей, что на данном этапе разброс значений исследуемого показателя скорости для группы пользователей, закончивших обучение, оказался шире. Скорее всего, это можно объяснить взаимодействием двух факторов: заметно бОльшей продолжительностью данного этапа по сравнению с предыдущими и заметно не большой (до такой степени, что группа перестает быть репрезентативной) численностью группы пользователей, не закончивших обучение. Т.е. вероятность того, что малочисленная группа пользователей покажет меньший разброс значений, чем многочисленная группа, да еще и на относительно продолжительном помежутке времени (что \"усиливает результат\" большой группы) - большая. "
   ]
  },
  {
   "attachments": {},
   "cell_type": "markdown",
   "metadata": {},
   "source": [
    "А теперь посмотрим на полученные данные совокупно. Построим коробчатую и столбчатую диаграммы, отражающие показатели скорости прохождения игры в разрезе всех ее этапов по двум группам пользователей, в отношение которых проводится данное исследование (пользователей, зарегистрированных в 2018 г., начавших, но не закончивших обучение, а также начавших и закончивших обучение)."
   ]
  },
  {
   "attachments": {},
   "cell_type": "markdown",
   "metadata": {},
   "source": [
    "Собрем все полученные ранее данные о разницах ('timedelta') в скоростях прохождения нашими группами этапов игры в одну таблицу:"
   ]
  },
  {
   "cell_type": "code",
   "execution_count": 30,
   "metadata": {},
   "outputs": [
    {
     "data": {
      "text/html": [
       "<div>\n",
       "<style scoped>\n",
       "    .dataframe tbody tr th:only-of-type {\n",
       "        vertical-align: middle;\n",
       "    }\n",
       "\n",
       "    .dataframe tbody tr th {\n",
       "        vertical-align: top;\n",
       "    }\n",
       "\n",
       "    .dataframe thead th {\n",
       "        text-align: right;\n",
       "    }\n",
       "</style>\n",
       "<table border=\"1\" class=\"dataframe\">\n",
       "  <thead>\n",
       "    <tr style=\"text-align: right;\">\n",
       "      <th></th>\n",
       "      <th>user_id</th>\n",
       "      <th>timedelta</th>\n",
       "      <th>stage</th>\n",
       "      <th>group</th>\n",
       "    </tr>\n",
       "  </thead>\n",
       "  <tbody>\n",
       "    <tr>\n",
       "      <th>0</th>\n",
       "      <td>27840</td>\n",
       "      <td>5.22944</td>\n",
       "      <td>tutorial_start</td>\n",
       "      <td>without_finish_tutorial</td>\n",
       "    </tr>\n",
       "    <tr>\n",
       "      <th>1</th>\n",
       "      <td>27856</td>\n",
       "      <td>7.30944</td>\n",
       "      <td>tutorial_start</td>\n",
       "      <td>without_finish_tutorial</td>\n",
       "    </tr>\n",
       "    <tr>\n",
       "      <th>2</th>\n",
       "      <td>27857</td>\n",
       "      <td>9.89083</td>\n",
       "      <td>tutorial_start</td>\n",
       "      <td>without_finish_tutorial</td>\n",
       "    </tr>\n",
       "    <tr>\n",
       "      <th>3</th>\n",
       "      <td>27859</td>\n",
       "      <td>0.12139</td>\n",
       "      <td>tutorial_start</td>\n",
       "      <td>without_finish_tutorial</td>\n",
       "    </tr>\n",
       "    <tr>\n",
       "      <th>4</th>\n",
       "      <td>27865</td>\n",
       "      <td>12.25556</td>\n",
       "      <td>tutorial_start</td>\n",
       "      <td>without_finish_tutorial</td>\n",
       "    </tr>\n",
       "    <tr>\n",
       "      <th>...</th>\n",
       "      <td>...</td>\n",
       "      <td>...</td>\n",
       "      <td>...</td>\n",
       "      <td>...</td>\n",
       "    </tr>\n",
       "    <tr>\n",
       "      <th>27338</th>\n",
       "      <td>47659</td>\n",
       "      <td>59.98333</td>\n",
       "      <td>purchase</td>\n",
       "      <td>with_finish_tutorial</td>\n",
       "    </tr>\n",
       "    <tr>\n",
       "      <th>27339</th>\n",
       "      <td>47687</td>\n",
       "      <td>21.39944</td>\n",
       "      <td>purchase</td>\n",
       "      <td>with_finish_tutorial</td>\n",
       "    </tr>\n",
       "    <tr>\n",
       "      <th>27340</th>\n",
       "      <td>47712</td>\n",
       "      <td>34.28472</td>\n",
       "      <td>purchase</td>\n",
       "      <td>with_finish_tutorial</td>\n",
       "    </tr>\n",
       "    <tr>\n",
       "      <th>27341</th>\n",
       "      <td>47742</td>\n",
       "      <td>103.75861</td>\n",
       "      <td>purchase</td>\n",
       "      <td>with_finish_tutorial</td>\n",
       "    </tr>\n",
       "    <tr>\n",
       "      <th>27342</th>\n",
       "      <td>47732</td>\n",
       "      <td>141.15194</td>\n",
       "      <td>purchase</td>\n",
       "      <td>with_finish_tutorial</td>\n",
       "    </tr>\n",
       "  </tbody>\n",
       "</table>\n",
       "<p>27343 rows × 4 columns</p>\n",
       "</div>"
      ],
      "text/plain": [
       "       user_id  timedelta           stage                    group\n",
       "0        27840    5.22944  tutorial_start  without_finish_tutorial\n",
       "1        27856    7.30944  tutorial_start  without_finish_tutorial\n",
       "2        27857    9.89083  tutorial_start  without_finish_tutorial\n",
       "3        27859    0.12139  tutorial_start  without_finish_tutorial\n",
       "4        27865   12.25556  tutorial_start  without_finish_tutorial\n",
       "...        ...        ...             ...                      ...\n",
       "27338    47659   59.98333        purchase     with_finish_tutorial\n",
       "27339    47687   21.39944        purchase     with_finish_tutorial\n",
       "27340    47712   34.28472        purchase     with_finish_tutorial\n",
       "27341    47742  103.75861        purchase     with_finish_tutorial\n",
       "27342    47732  141.15194        purchase     with_finish_tutorial\n",
       "\n",
       "[27343 rows x 4 columns]"
      ]
     },
     "execution_count": 30,
     "metadata": {},
     "output_type": "execute_result"
    }
   ],
   "source": [
    "# готовим таблицу данных \"timedelta\" по этапу 'pack_choice' для группы пользователей, не закончивших обучение  \n",
    "events_without_finish_tutorial_merged_3['group']  = 'without_finish_tutorial'\n",
    "events_without_finish_tutorial_merged_3['stage']  = 'pack_choice'\n",
    "events_without_finish_tutorial_merged_3 = events_without_finish_tutorial_merged_3[\n",
    "    ['user_id','timedelta','stage','group']] \n",
    "\n",
    "# готовим таблицу данных \"timedelta\" по этапу 'pack_choice' для группы пользователей, закончивших обучение  \n",
    "events_with_finish_tutorial_merged_3['group']  = 'with_finish_tutorial'\n",
    "events_with_finish_tutorial_merged_3['stage']  = 'pack_choice'\n",
    "events_with_finish_tutorial_merged_3 = events_with_finish_tutorial_merged_3[\n",
    "    ['user_id','timedelta','stage','group']] \n",
    "\n",
    "# собираем данные по всем этапам для группы пользователей, не закончивших обучение, в одну таблицу\n",
    "events_without_finish_tutorial_merged = events_without_finish_tutorial_merged_1.merge(\n",
    "    events_without_finish_tutorial_merged_2, on=['user_id','timedelta','stage','group'],\n",
    "    how='outer')\n",
    "\n",
    "events_without_finish_tutorial_merged = events_without_finish_tutorial_merged.merge(\n",
    "    events_without_finish_tutorial_merged_3, on=['user_id','timedelta','stage','group'],\n",
    "    how='outer')\n",
    "\n",
    "events_without_finish_tutorial_merged = events_without_finish_tutorial_merged.merge(\n",
    "    events_without_finish_tutorial_merged_4, on=['user_id','timedelta','stage','group'],\n",
    "    how='outer')\n",
    "\n",
    "# собираем данные по всем этапам для группы пользователей, закончивших обучение, в одну таблицу\n",
    "events_with_finish_tutorial_merged = events_with_finish_tutorial_merged_1.merge(\n",
    "    events_with_finish_tutorial_merged_2, on=['user_id','timedelta','stage','group'],\n",
    "    how='outer')\n",
    "\n",
    "events_with_finish_tutorial_merged = events_with_finish_tutorial_merged.merge(\n",
    "    events_with_finish_tutorial_merged_3, on=['user_id','timedelta','stage','group'],\n",
    "    how='outer')\n",
    "\n",
    "events_with_finish_tutorial_merged = events_with_finish_tutorial_merged.merge(\n",
    "    events_with_finish_tutorial_merged_4, on=['user_id','timedelta','stage','group'],\n",
    "    how='outer')\n",
    "\n",
    "merged_all_stage = events_without_finish_tutorial_merged.merge(\n",
    "    events_with_finish_tutorial_merged,\n",
    "    on=['user_id','timedelta','stage','group'],\n",
    "    how='outer')\n",
    "\n",
    "merged_all_stage['timedelta'] = merged_all_stage['timedelta'].apply(to_numeric)\n",
    "\n",
    "merged_all_stage"
   ]
  },
  {
   "attachments": {},
   "cell_type": "markdown",
   "metadata": {},
   "source": [
    "На основании полученной таблицы данных построим коробчатую и столбчатую диаграммы в разрезе двух исследуемых групп и всех игровых этапов"
   ]
  },
  {
   "cell_type": "code",
   "execution_count": 31,
   "metadata": {},
   "outputs": [
    {
     "data": {
      "image/png": "[encoded data removed]",
      "text/plain": [
       "<Figure size 1000x700 with 1 Axes>"
      ]
     },
     "metadata": {},
     "output_type": "display_data"
    }
   ],
   "source": [
    "fig = plt.figure(figsize=(10, 7))\n",
    "boxplot = sns.boxplot(\n",
    "    data=merged_all_stage,\n",
    "    y='stage',\n",
    "    x= 'timedelta',\n",
    "    hue='group',\n",
    "    orient='h',\n",
    "    width=0.9\n",
    ")\n",
    "boxplot.set_title('Скорость прохождения этапов игры');\n",
    "boxplot.set_xlabel('timedelta, hour');\n",
    "boxplot.set_ylabel('stage');\n",
    "boxplot.grid()"
   ]
  },
  {
   "cell_type": "code",
   "execution_count": 32,
   "metadata": {},
   "outputs": [
    {
     "data": {
      "image/png": "[encoded data removed]",
      "text/plain": [
       "<Figure size 1000x600 with 1 Axes>"
      ]
     },
     "metadata": {},
     "output_type": "display_data"
    }
   ],
   "source": [
    "fig = plt.figure(figsize=(10, 6))\n",
    "barplot = sns.barplot(\n",
    "    data=merged_all_stage,\n",
    "    x='stage',\n",
    "    y='timedelta',\n",
    "    hue='group',\n",
    ")\n",
    "barplot.set_title('Средняя скорость прохождения этапов');"
   ]
  },
  {
   "attachments": {},
   "cell_type": "markdown",
   "metadata": {},
   "source": [
    "## Вывод по Гипотезе №1"
   ]
  },
  {
   "attachments": {},
   "cell_type": "markdown",
   "metadata": {},
   "source": [
    " Мы видим, что средняя скорость прохождения этапов игры (за исключением этапа 'pack_choice', слишком непродолжительного, чтобы представлять для нас какой-либо интерес, как и было отмечено ранее) для группы пользователей, не закончивших обучение, всегда больше, чем она же для группы пользователей, закончивших обучение. Но мы также видим, что эта разница, скорее, несущественнав в сравнении с продолжительностью этапов: итоговая разница в скорости прохождения игры двумя группами - 5 часов; средняя продолжительность всех этапов игры для одной ('without_finish_tutorial') и другой ('with_finish_tutorial') группы - 101,5 ч. и 96,5 ч., соответственно. Кроме того, анализируя полученную разницу, нам не раз приходилось ставить под сомнение нашу Гипотезу о влиянии обучения на скорость прохождения игры, причем начиная уже с первого этапа, т.е. до начала прохождения обучения. При этом мы не ставим под сомнение ценность обучения как такового. Как мы выяснили ранее, для многих пользователей этап обучения необходим. Мы также не ставим под сомнение и то, что обучение, действительно, позволяет увеличивать скорость выполнения каких-либо задач обученным субъектом. Но в данном конкретном случае, с данной конкретной игрой и на основе данных конкретных сведений о взаимодействии с ней пользователей, подтвердить нашу гипотезу не представлятеся возможным. Без дополнительных сведений о наших пользователях, данная гипотеза, как видим, довольно быстро разбивается, начиная сыпаться уже на первом этапе (до прохождения обучения). Таким образом, этап обучения в игре стоит рассматривать, скорее, как инструмент удержания в ней пользователей, чем как фактор, влияющий на скорость прохождения ее этапов. Отсюда, сравнение указанных выше групп по показателю скорости прохождения ими этапов игры и установление таким образом связи между полученными результатами и обучением не кажется в данном случае верным шагом. "
   ]
  },
  {
   "attachments": {},
   "cell_type": "markdown",
   "metadata": {},
   "source": [
    "### *7.2. Гипотеза № 2*"
   ]
  },
  {
   "attachments": {},
   "cell_type": "markdown",
   "metadata": {},
   "source": [
    "Гипотеза № 2 предполагает, что повторное прохождение обучения положительно влияет на оплату. Верно ли это? Для проверки гипотезы нам небходимо проверить, существует ли зависимость между вероятностью оплаты вопросов и количеством обучений, которые начинал или завершал пользователь."
   ]
  },
  {
   "attachments": {},
   "cell_type": "markdown",
   "metadata": {},
   "source": [
    "Таким образом, для того, чтобы выявить истинность или ложность Гипотезы № 2 нам необходимо найти долю покупок (конверсию в покупки), осуществленных пользователями, которые начинали или завершали обучение только однажды, и долю покупок, осуществленных пользователями, которые начинали или завершали обучение не один раз. А затем сравнить полученные показатели. "
   ]
  },
  {
   "attachments": {},
   "cell_type": "markdown",
   "metadata": {},
   "source": [
    "Для начала определим состав групп пользователей, которые подвергнем изучению в рамках данной Гипотезы. \n",
    "\n",
    "Разделим группу пользователей, начавших, но не закончивших обучение, на тех, кто начинал обучение только однажды, и тех, кто предпринимал повторные попытки приступить к обучению. \n",
    "\n",
    "Также разделим группу пользователей, начавших и закончивших обучение, на тех, кто начинал обучение только однажды, и тех, кто предпринимал повторные попытки приступить к обучению. Кроме того, разделим эту же группу, начавших и закончивших обучение, также и по второму принципу: возьмем за основу для такого деления только те попытки пользователей, которые завершились успешно, т.е. те tutorial_id, для которых в нашей таблице есть записи с двумя событиями: и tutorial_start, и tutorial_finish.\n",
    "\n",
    "Таким образом, на данном этапе нам необходимо получить три пары списков (наборов,множеств) (далее - списков) пользователей (user_id): \n",
    "* первая пара списков будет содержать список пользователей (user_id), не закончивших обучение, для которых в нашей таблице есть записи только с одним событием tutorial_start, и список пользователей (user_id), не закончивших обучение, для которых в нашей таблице есть записи с несколькими событиями tutorial_start;\n",
    "* вторая пара списков будет содержать список пользователей (user_id), закончивших обучение, для которых в нашей таблице есть записи только с одним событием tutorial_start, и список пользователей (user_id), закончивших обучение, для которых в нашей таблице есть записи с несколькими событиями tutorial_start;\n",
    "* третяя пара списков будет содержать список пользователей (user_id), закончивших обучение, для которых в нашей таблице есть записи только с одним событием tutorial_finish, и список пользователей (user_id), закончивших обучение, для которых в нашей таблице есть записи с несколькими событиями tutorial_finish.\n",
    "\n",
    "При этом мы знаем, что были пользователи, предпринимавшие до 9 попыток начать обучение, а также пользователи, успешно завершившие обучение до 9 раз. Но на данном этапе мы не станем делить пользователей на девять списков в каждом из трех наборов, пока удовлетворимся тремя парами (как описано выше). Дальнейшее исследование покажет, будет ли иметь какой-то смысл увеличение дробности наших основных групп (закончивших и незакончивших обучение) до 27-ми (3х9) для дальнейшего изучения.\n",
    "\n",
    "Может возникнуть вопрос: почему мы не объединим пользователей из первой и второй пары списков и не расчитаем без лишних манипуляций конверсию в оплату пользователей обеих групп, разделив их лишь на тех, кто начинал обучение один раз, и тех, кто начинал обучение не единожды? Дело в том, что, как мы говорили ранее, поведение этих групп определил не только фактор обучения. Изначальное формирование этих групп было обусловлено какими-то другими факторами или фактором (в данном контексте мы не можем это выяснить). И зная о том, что две эти группы изначально несут в себе различия, было бы интересно сравнить их поведение и при проверке текущей Гипотезы."
   ]
  },
  {
   "attachments": {},
   "cell_type": "markdown",
   "metadata": {},
   "source": [
    "Приступим. Списки (множества) id пользователей, начавших, но не закончивших, а также начавших и закончивших обучение, у нас уже есть, это: user_id_tutorial_start_wo_finish, user_id_tutorial_finish (см. раздел 7.1 \"Гипотеза №1\"). Теперь нам нужно получить из этих списков три списка id пользователей с однократной попыткой обучения (завершенной и незавершенной) и три списка id пользователей с многократными попытками обучения (завершенными и незавершенными). Правила формирования узананных списков описаны выше (см.: первая, вторая, третья пары)."
   ]
  },
  {
   "cell_type": "code",
   "execution_count": 33,
   "metadata": {},
   "outputs": [],
   "source": [
    "# Списки (множества) пользователей, не закончивших обучение (первая пара)\n",
    "\n",
    "# Формирование списка уникальных id обучений (tutorial_id) (без повторов/дубликатов) для пользователей, не закончивших обучение\n",
    "tutorial_start_wo_finish_df = total_events_df_2018[(mask_tutorial_start & mask_user_id_tutorial_start_wo_finish)] # дублирует строку из подраздела 7.1\n",
    "tutorial_start_wo_finish_wo_duplicates_df = tutorial_start_wo_finish_df.sort_values(\"start_time\").drop_duplicates(\"user_id\") # дублирует строку из подраздела 7.1\n",
    "start_wo_finish_tutorial_wo_duplicates_ids = tutorial_start_wo_finish_wo_duplicates_df[\"tutorial_id\"].unique() # дублирует строку из подраздела 7.1\n",
    "\n",
    "# Формирование списка повторов/дубликатов id обучений, для пользователей, не закончивших обучение\n",
    "start_wo_finish_tutorial_with_duplicates_ids = set(tutorial_start_wo_finish_df[\"tutorial_id\"])\n",
    "start_wo_finish_tutorial_wo_duplicates_ids = set(start_wo_finish_tutorial_wo_duplicates_ids)\n",
    "duplicates_ids_wo_finish = start_wo_finish_tutorial_with_duplicates_ids.difference(start_wo_finish_tutorial_wo_duplicates_ids)\n",
    "\n",
    "# Формирование списков id пользователей (user_id) первой пары\n",
    "user_id_duplicates_start_wo_finish = set(\n",
    "    total_events_df_2018[total_events_df_2018['tutorial_id'].isin(duplicates_ids_wo_finish)]['user_id'])\n",
    "user_id_wo_duplicates_start_wo_finish = user_id_tutorial_start_wo_finish.difference(user_id_duplicates_start_wo_finish)"
   ]
  },
  {
   "cell_type": "code",
   "execution_count": 34,
   "metadata": {},
   "outputs": [],
   "source": [
    "# Списки (множества) пользователей, закончивших обучение (вторая пара: формируется исходя из старта обучения (tutorial_start))\n",
    "\n",
    "# Формирование списка уникальных id обучений (tutorial_id) (без повторов/дубликатов), а также списка повторов/дубликатов id обучений,\n",
    "# для пользователей, закончивших обучение\n",
    "tutorial_start_df = total_events_df_2018[(mask_tutorial_start)]\n",
    "start_with_duplicates_ids = set(tutorial_start_df[\"tutorial_id\"])\n",
    "start_with_finish_tutorial_with_duplicates_ids = start_with_duplicates_ids.difference(start_wo_finish_tutorial_with_duplicates_ids)\n",
    "\n",
    "tutorial_start_with_finish_df = total_events_df_2018[\n",
    "    total_events_df_2018['tutorial_id'].isin(start_with_finish_tutorial_with_duplicates_ids)]\n",
    "tutorial_start_with_finish_wo_duplicates_df = tutorial_start_with_finish_df.sort_values(\"start_time\").drop_duplicates(\"user_id\")\n",
    "start_with_finish_tutorial_wo_duplicates_ids = set(tutorial_start_with_finish_wo_duplicates_df[\"tutorial_id\"].unique())\n",
    "\n",
    "duplicates_ids_start = start_with_finish_tutorial_with_duplicates_ids.difference(start_with_finish_tutorial_wo_duplicates_ids)\n",
    "\n",
    "# Формирование списков id пользователей (user_id) для второй пары\n",
    "user_id_duplicates_start_with_finish_on_start = set(\n",
    "    total_events_df_2018[total_events_df_2018['tutorial_id'].isin(duplicates_ids_start)]['user_id'])\n",
    "user_id_wo_duplicates_start_with_finish_on_start = user_id_tutorial_finish.difference(user_id_duplicates_start_with_finish_on_start)"
   ]
  },
  {
   "cell_type": "code",
   "execution_count": 35,
   "metadata": {},
   "outputs": [],
   "source": [
    "# Списки (множества) пользователей, закончивших обучение (третья пара: формируется исходя из окончания обучения (tutorial_finish))\n",
    "\n",
    "# Формирование списка уникальных id обучений (tutorial_id) (без повторов/дубликатов) для пользователей, закончивших обучение\n",
    "tutorial_finish_df = total_events_df_2018[mask_tutorial_finish] # дублирует строку из подраздела 7.1\n",
    "tutorial_finish_wo_duplicates_df = tutorial_finish_df.sort_values(\"start_time\").drop_duplicates(\"user_id\") # дублирует строку из подраздела 7.1\n",
    "first_finish_tutorial_wo_duplicates_ids = tutorial_finish_wo_duplicates_df[\"tutorial_id\"].unique() # дублирует строку из подраздела 7.1\n",
    "\n",
    "# Формирование списка повторов/дубликатов id обучений, для пользователей, не закончивших обучение\n",
    "first_finish_tutorial_with_duplicates_ids = set(tutorial_finish_df[\"tutorial_id\"])\n",
    "first_finish_tutorial_wo_duplicates_ids = set(first_finish_tutorial_wo_duplicates_ids)\n",
    "duplicates_ids_with_finish = first_finish_tutorial_with_duplicates_ids.difference(first_finish_tutorial_wo_duplicates_ids)\n",
    "\n",
    "# Формирование списков id пользователей (user_id) третьей пары\n",
    "user_id_duplicates_start_with_finish_on_finish = set(\n",
    "    total_events_df_2018[total_events_df_2018['tutorial_id'].isin(duplicates_ids_with_finish)]['user_id'])\n",
    "user_id_wo_duplicates_start_with_finish_on_finish = user_id_tutorial_finish.difference(user_id_duplicates_start_with_finish_on_finish)\n"
   ]
  },
  {
   "cell_type": "code",
   "execution_count": 36,
   "metadata": {},
   "outputs": [
    {
     "name": "stdout",
     "output_type": "stream",
     "text": [
      "Длины пар списков пользователей (с повторными обучениями, без повторных обучений, соответственно):\n",
      "-) первой пары - 53 , 1555\n",
      "-) второй пары - 2702 , 7548\n",
      "-) третьей пары - 2235 , 8015\n"
     ]
    }
   ],
   "source": [
    "print('Длины пар списков пользователей (с повторными обучениями, без повторных обучений, соответственно):')\n",
    "print('-) первой пары -',\n",
    "      len(user_id_duplicates_start_wo_finish),',',len(user_id_wo_duplicates_start_wo_finish))\n",
    "print('-) второй пары -',\n",
    "      len(user_id_duplicates_start_with_finish_on_start),',',len(user_id_wo_duplicates_start_with_finish_on_start))\n",
    "print('-) третьей пары -',\n",
    "      len(user_id_duplicates_start_with_finish_on_finish),',',len(user_id_wo_duplicates_start_with_finish_on_finish))"
   ]
  },
  {
   "attachments": {},
   "cell_type": "markdown",
   "metadata": {},
   "source": [
    "Полученные результаты визуализируем с помощью круговой диаграммы. Но прежде подготовим данные для ее построения."
   ]
  },
  {
   "attachments": {},
   "cell_type": "markdown",
   "metadata": {},
   "source": [
    "Добавим в нашу основную таблицу данных 'total_events_df_2018' два признака: 'diagram_tutorial_1', 'diagram_tutorial_2'. И заполним их значениями, позволяющими в дальнейшем собрать данные, для двух вариантов диаграмм, о пользователях групп, состав которых мы определили выше. Т.е. пометим записи БД для пользователей, относящихся к разным группам, обозначениями этих групп. Диаграмма будет представлена в двух вариантах, т.к. группу пользователей, закончивших обучение, мы разбили на тех, кто прошел обучение только однажды, и тех, кто проходил обучения повторно, согласно двум принципам, по началу и по окончанию обучения (т.е. вторая и третья пары списков id пользователей содержат id одних и тех же пользователей). И так как было бы некорректным включать данные об одних и тех же пользователях в одну диаграмму дважды, построим две диаграммы."
   ]
  },
  {
   "cell_type": "code",
   "execution_count": 37,
   "metadata": {},
   "outputs": [],
   "source": [
    "def diagram_tutorial_1 (user_id):\n",
    "    if user_id in user_id_duplicates_start_wo_finish:\n",
    "        return 'couple-1, gr-1'\n",
    "    elif user_id in user_id_wo_duplicates_start_wo_finish:\n",
    "        return 'couple-1, gr-2'\n",
    "    elif user_id in user_id_duplicates_start_with_finish_on_start:\n",
    "        return 'couple-2, gr-1'\n",
    "    elif user_id in user_id_wo_duplicates_start_with_finish_on_start:\n",
    "        return 'couple-2, gr-2'\n",
    "    \n",
    "def diagram_tutorial_2 (user_id):\n",
    "    if user_id in user_id_duplicates_start_wo_finish:\n",
    "        return 'couple-1, gr-1'\n",
    "    elif user_id in user_id_wo_duplicates_start_wo_finish:\n",
    "        return 'couple-1, gr-2'\n",
    "    elif user_id in user_id_duplicates_start_with_finish_on_finish:\n",
    "        return 'couple-3, gr-1'\n",
    "    elif user_id in user_id_wo_duplicates_start_with_finish_on_finish:\n",
    "        return 'couple-3, gr-2'    \n",
    "        \n",
    "total_events_df_2018['diagram_tutorial_1'] = total_events_df_2018['user_id'].apply(diagram_tutorial_1)\n",
    "total_events_df_2018['diagram_tutorial_2'] = total_events_df_2018['user_id'].apply(diagram_tutorial_2)"
   ]
  },
  {
   "attachments": {},
   "cell_type": "markdown",
   "metadata": {},
   "source": [
    "Сформируем таблицы, содержащие данные для диаграмм, посредством наложения соответствующих фильтров на БД."
   ]
  },
  {
   "cell_type": "code",
   "execution_count": 38,
   "metadata": {},
   "outputs": [],
   "source": [
    "# маски\n",
    "mask_tutorial_id_tutorial_start_wo_finish = total_events_df_2018['tutorial_id'].isin(start_wo_finish_tutorial_wo_duplicates_ids)\n",
    "mask_tutorial_id_tutorial_start_with_finish = total_events_df_2018['tutorial_id'].isin(start_with_finish_tutorial_wo_duplicates_ids)\n",
    "mask_tutorial_id_first_finish_tutorial = total_events_df_2018['tutorial_id'].isin(first_finish_tutorial_wo_duplicates_ids)"
   ]
  },
  {
   "cell_type": "code",
   "execution_count": 39,
   "metadata": {},
   "outputs": [],
   "source": [
    "df_for_diagram_1 = total_events_df_2018[(mask_tutorial_id_tutorial_start_wo_finish) |\n",
    "    (mask_tutorial_start & mask_tutorial_id_tutorial_start_with_finish)]\n",
    "\n",
    "df_for_diagram_2 = total_events_df_2018[(mask_tutorial_id_tutorial_start_wo_finish) |\n",
    "    (mask_tutorial_finish & mask_tutorial_id_first_finish_tutorial)]"
   ]
  },
  {
   "attachments": {},
   "cell_type": "markdown",
   "metadata": {},
   "source": [
    "Сформируем первый вариант диаграммы \"Соотношение численности групп, обучающихся пользователей\""
   ]
  },
  {
   "cell_type": "code",
   "execution_count": 40,
   "metadata": {},
   "outputs": [
    {
     "data": {
      "image/png": "[encoded data removed]",
      "text/plain": [
       "<Figure size 500x500 with 1 Axes>"
      ]
     },
     "metadata": {},
     "output_type": "display_data"
    }
   ],
   "source": [
    "diagram = df_for_diagram_1['diagram_tutorial_1'].value_counts()\n",
    "fig = plt.figure(figsize=(5, 5))\n",
    "axes = fig.add_axes([0, 0, 1, 1])\n",
    "axes.pie(\n",
    "    diagram,\n",
    "    labels=diagram.index,\n",
    "    autopct='%.1f%%',\n",
    "    explode = [0.01, 0.01, 0.01, 0.01]\n",
    ");"
   ]
  },
  {
   "attachments": {},
   "cell_type": "markdown",
   "metadata": {},
   "source": [
    "Сформируем второй вариант диаграммы \"Соотношение численности групп, обучающихся пользователей\""
   ]
  },
  {
   "cell_type": "code",
   "execution_count": 41,
   "metadata": {},
   "outputs": [
    {
     "data": {
      "image/png": "[encoded data removed]",
      "text/plain": [
       "<Figure size 500x500 with 1 Axes>"
      ]
     },
     "metadata": {},
     "output_type": "display_data"
    }
   ],
   "source": [
    "diagram = df_for_diagram_2['diagram_tutorial_2'].value_counts()\n",
    "fig = plt.figure(figsize=(5, 5))\n",
    "axes = fig.add_axes([0, 0, 1, 1])\n",
    "axes.pie(\n",
    "    diagram,\n",
    "    labels=diagram.index,\n",
    "    autopct='%.1f%%',\n",
    "    explode = [0.01, 0.01, 0.01, 0.01]\n",
    ");"
   ]
  },
  {
   "attachments": {},
   "cell_type": "markdown",
   "metadata": {},
   "source": [
    "Мы видим, что разные подходы к формированию групп пользователей, закончивших обучение, а точнее, к разбивке их на тех, кто прошел обучение однажды, и тех, кто проходил обучение повторно, дают некоторые различия в результатах. Но мы не можем сказать, что имеем дело с двумя принципиально разными картинами. Совсем нет. Процент тех пользователей, которые только однажды прошли обучение до конца, но при этом начинали его не единожды, невелик. Мы видим разницу в процентном соотношении этих групп, при разных подходах, всего примерно в 4-ре, ничего не решающих, %-та (67,6%-63,7%=3,9% или 18,8%-22,8%=-4%, небольшая разница - результат округлений). И вторая группа второй (при одном подходе к формированию групп) и третьей (при другом подходе к формированию групп) пары (пользователи, завершившие обучение, и прошедшие его только однажды), как была численно доминирующей, так такой и осталась."
   ]
  },
  {
   "attachments": {},
   "cell_type": "markdown",
   "metadata": {},
   "source": [
    "Три пары списков пользователей получены, диаграммы, отражающие соотношение их численности построены. Далее найдем число пользователей из наших списков, которые совершили покупку."
   ]
  },
  {
   "attachments": {},
   "cell_type": "markdown",
   "metadata": {},
   "source": [
    "Сформируем маски фильтров для определения численности групп обучающихся пользователей, которые совершили покупку. И далее найдем численность таких групп пользователей."
   ]
  },
  {
   "cell_type": "code",
   "execution_count": 42,
   "metadata": {},
   "outputs": [],
   "source": [
    "# маски\n",
    "mask_user_id_tutorial_start_wo_finish_with_duplicates = total_events_df_2018['user_id'].isin(user_id_duplicates_start_wo_finish)\n",
    "mask_user_id_tutorial_start_wo_finish_wo_duplicates = total_events_df_2018['user_id'].isin(user_id_wo_duplicates_start_wo_finish)\n",
    "mask_user_id_tutorial_start_with_duplicates = total_events_df_2018['user_id'].isin(user_id_duplicates_start_with_finish_on_start)\n",
    "mask_user_id_tutorial_start_wo_duplicates = total_events_df_2018['user_id'].isin(user_id_wo_duplicates_start_with_finish_on_start)\n",
    "mask_user_id_tutorial_with_finish_with_duplicates = total_events_df_2018['user_id'].isin(user_id_duplicates_start_with_finish_on_finish)\n",
    "mask_user_id_tutorial_with_finish_wo_duplicates = total_events_df_2018['user_id'].isin(user_id_wo_duplicates_start_with_finish_on_finish)"
   ]
  },
  {
   "cell_type": "code",
   "execution_count": 43,
   "metadata": {},
   "outputs": [
    {
     "name": "stdout",
     "output_type": "stream",
     "text": [
      "Длины пар списков пользователей, совершивших покупку (после повторных обучений, без повторных обучений, соответственно):\n",
      "-) первой пары - 7 , 124\n",
      "-) второй пары - 364 , 1083\n",
      "-) третьей пары - 304 , 1143\n"
     ]
    }
   ],
   "source": [
    "df1 = total_events_df_2018[(mask_purchase & mask_user_id_tutorial_start_wo_finish_with_duplicates)]\n",
    "df2 = total_events_df_2018[(mask_purchase & mask_user_id_tutorial_start_wo_finish_wo_duplicates)]\n",
    "df3 = total_events_df_2018[(mask_purchase & mask_user_id_tutorial_start_with_duplicates)]\n",
    "df4 = total_events_df_2018[(mask_purchase & mask_user_id_tutorial_start_wo_duplicates)]\n",
    "df5 = total_events_df_2018[(mask_purchase & mask_user_id_tutorial_with_finish_with_duplicates)]\n",
    "df6 = total_events_df_2018[(mask_purchase & mask_user_id_tutorial_with_finish_wo_duplicates)]\n",
    "\n",
    "print('Длины пар списков пользователей, совершивших покупку (после повторных обучений, без повторных обучений, соответственно):')\n",
    "print('-) первой пары -',\n",
    "      len(df1),',',len(df2))\n",
    "print('-) второй пары -',\n",
    "      len(df3),',',len(df4))\n",
    "print('-) третьей пары -',\n",
    "      len(df5),',',len(df6))"
   ]
  },
  {
   "attachments": {},
   "cell_type": "markdown",
   "metadata": {},
   "source": [
    "Полученные результаты визуализируем с помощью круговых диаграмм, предварительно также подготовив данные для их построения."
   ]
  },
  {
   "attachments": {},
   "cell_type": "markdown",
   "metadata": {},
   "source": [
    "Сформируем таблицы, содержащие данные для диаграмм, посредством наложения соответствующих фильтров на БД."
   ]
  },
  {
   "cell_type": "code",
   "execution_count": 44,
   "metadata": {},
   "outputs": [],
   "source": [
    "df_for_diagram_3 = total_events_df_2018[mask_purchase]\n",
    "df_for_diagram_4 = total_events_df_2018[mask_purchase]"
   ]
  },
  {
   "attachments": {},
   "cell_type": "markdown",
   "metadata": {},
   "source": [
    "Сформируем первый вариант диаграммы \"Соотношение численности групп, обучающихся пользователей, совершивших покупку\""
   ]
  },
  {
   "cell_type": "code",
   "execution_count": 45,
   "metadata": {},
   "outputs": [
    {
     "data": {
      "image/png": "[encoded data removed]",
      "text/plain": [
       "<Figure size 500x500 with 1 Axes>"
      ]
     },
     "metadata": {},
     "output_type": "display_data"
    }
   ],
   "source": [
    "diagram = df_for_diagram_3['diagram_tutorial_1'].value_counts()\n",
    "fig = plt.figure(figsize=(5, 5))\n",
    "axes = fig.add_axes([0, 0, 1, 1])\n",
    "axes.pie(\n",
    "    diagram,\n",
    "    labels=diagram.index,\n",
    "    autopct='%.1f%%',\n",
    "    explode = [0.01, 0.01, 0.01, 0.01]\n",
    ");"
   ]
  },
  {
   "attachments": {},
   "cell_type": "markdown",
   "metadata": {},
   "source": [
    "Сформируем второй вариант диаграммы \"Соотношение численности групп, обучающихся пользователей, совершивших покупку\""
   ]
  },
  {
   "cell_type": "code",
   "execution_count": 46,
   "metadata": {},
   "outputs": [
    {
     "data": {
      "image/png": "[encoded data removed]",
      "text/plain": [
       "<Figure size 500x500 with 1 Axes>"
      ]
     },
     "metadata": {},
     "output_type": "display_data"
    }
   ],
   "source": [
    "diagram = df_for_diagram_4['diagram_tutorial_2'].value_counts()\n",
    "fig = plt.figure(figsize=(5, 5))\n",
    "axes = fig.add_axes([0, 0, 1, 1])\n",
    "axes.pie(\n",
    "    diagram,\n",
    "    labels=diagram.index,\n",
    "    autopct='%.1f%%',\n",
    "    explode = [0.01, 0.01, 0.01, 0.01]\n",
    ");"
   ]
  },
  {
   "attachments": {},
   "cell_type": "markdown",
   "metadata": {},
   "source": [
    "Мы видим, что в целом оба варианта диаграмм численности покупающих обучающихся пользователей схожи как между собой, так и с двумя вариантами диаграмм соотношения численности групп пользователей, прошедших обучение. Но обратим внимание на две детали. Во-первых, мы видим, что доля групп второй и третьей пары (т.е. закончивших обучение) на диаграммах покупки по сравнению с диаграммами обучения растет, а первой пары (не закончивших обучение) - снижается, что говорит о том, что конверия в покупку у пользователей, не закончивших обучение, будет хуже, чем у закончивших обучение. Во-вторых, разница между группами второй и третьей пары на диаграммах покупки немного меньше, чем на диаграммах соотношения численности групп пользователей, и составляет 3,8% (72,4%-68,6%=3,8% или 19,3%-23,1%=-3,8%), против примерно 4% для диаграмм соотношения численности групп обучающихся пользователей. Разница совсем незначительная, но она показывает, что конверсия в покупку для второй группы второй пары окажется чуть выше, чем конверсия для второй группы третьей пары из-за чуть меньшего (3,8% против примерно 4%) \"перетекания\" пользователей (при двух разных подходах к формированию групп) из группы первой в группу вторую между второй и третьей парами для покупающих пользователей по сравнению с обучающимися. Т.е. первое положение, на которое мы обратили внимание, говорит нам о том, что конверсия в покупку у пользователей, закончивших обучение, будет выше, чем конверсия у пользователей, не закончивших обучение, а второе - о том, что среди групп пользователей, закончивших обучение, лидером по конверсии будет группа пользователей, начинавших обучение только однажды и завершивших его (вторая группа второй пары). Далее мы сможем убедиться в этом, рассчитав конверсию в покупку для всех групп. "
   ]
  },
  {
   "attachments": {},
   "cell_type": "markdown",
   "metadata": {},
   "source": [
    "Рассчитаем конверсию в покупку для пользователей, проходящих обучение."
   ]
  },
  {
   "cell_type": "code",
   "execution_count": 47,
   "metadata": {},
   "outputs": [
    {
     "name": "stdout",
     "output_type": "stream",
     "text": [
      "Конверсия первой пары пользователей 13.21 %, 7.97 %\n",
      "Конверсия второй пары пользователей 13.47 %, 14.35 %\n",
      "Конверсия третьей пары пользователей 13.6 %, 14.26 %\n"
     ]
    }
   ],
   "source": [
    "conv1 = round(len(df1)/len(user_id_duplicates_start_wo_finish)*100,2)\n",
    "conv2 = round(len(df2)/len(user_id_wo_duplicates_start_wo_finish)*100,2)\n",
    "conv3 = round(len(df3)/len(user_id_duplicates_start_with_finish_on_start)*100,2)\n",
    "conv4 = round(len(df4)/len(user_id_wo_duplicates_start_with_finish_on_start)*100,2)\n",
    "conv5 = round(len(df5)/len(user_id_duplicates_start_with_finish_on_finish)*100,2)\n",
    "conv6 = round(len(df6)/len(user_id_wo_duplicates_start_with_finish_on_finish)*100,2)\n",
    "\n",
    "print('Конверсия первой пары пользователей',\n",
    "      conv1,'%,',conv2,'%')\n",
    "print('Конверсия второй пары пользователей',\n",
    "      conv3,'%,',conv4,'%')\n",
    "print('Конверсия третьей пары пользователей',\n",
    "      conv5,'%,',conv6,'%')"
   ]
  },
  {
   "attachments": {},
   "cell_type": "markdown",
   "metadata": {},
   "source": [
    "Как видим, самая высокая конверсия (14,35%) в группе пользователей, прошедших обучение до конца, сделавших это только однажды и с первой попытки. Похоже на то, что это самая собранная, самая мотивированная и самая подготовленная для прохождения игры группа. Самая низкая конверсия (7,97%) в группе пользователей, не закончивших обучение и сделавших только одну попытку его начать. А это похоже на шаблон поведения наименее мотивированной и наименее подготовленной группы пользователей. Похоже, что эти пользователи не очень-то сильно были заинтересованы в продолждении игры, они не только не прошли обучение до конца, они даже не предприняли повторных попыток его начать, при этом отсев в этой группе оказался самым высоким, что подтверждается самой низкой конверсией. Таким образом, большой отсев и невысокая заинтересованность пользователей подтверждают их низкую мотивированность и низкую подготовленность к прохождению игры.\n",
    "\n",
    "Что касается остальных групп пользователей, нельзя сказать, что конверсия в этих группах сильно отличается от, так называемого, лидера (это хорошо будет видно на столбчатых диаграммах далее). Самый большой отрыв от лидера среди этих групп, в 1,14 % (14,36% - 13,21%), наблюдается в группе пользователей, не закончивших, как и группа-аутсайдер (по конверсии), обучение, но совершивних не одну попытку его начать (такая насточивость говорит нам о бОльшей мотивированности пользователей этой группы по сравнению с группой-аутсайдером). При этом ближе всего к группе-лидеру по конверсии находится группа пользователей (14,26%), прошедших, также как и пользователи из группы-лидера, обучение до конца, и сделавших это также только однажды, но не всегда с первой попытки (в группе, о которой идет речь, есть пользователи, которые до первой и едиственной успешной попытки пройти обучение до конца начинали его не один раз).\n",
    "\n",
    "Таким образом, мы видим, что самая высокая конверсия в группах пользователей, прошедших обучение до конца и сделавших это только однажды (14,35%, 14,26%) (по большей части, пользователи в этих двух группах одни и те же (см. выше два разных подхода к формированию групп)). \"Обучение до конца и однажды\" - говорит нам о более высокой мотивированности и подготовленности пользователей из этих групп. А самая низкая конверсия - в группах, не закончивших обучение (13,21%, 7,97%), менее подготовленных и менее мотивированных, судя по результатам. Кроме того, мы видим, что все группы, в которых предпринималась не одна попытка обучения, включая группу с повторными успешными обучениями, имеют конверсию ниже (13,21%, 13,47%, 13,6%), чем в группах, где пройдено \"обучение до конца и однажды\" (14,35%, 14,26%). При этом, не будем забывать, что группы, не попавшие по показателю конверсии в оплату в лидеры, лидеру уступают незначительно (исключение - группа-аутсайдер). Рассмотрим это далее на столбчатых диаграммах."
   ]
  },
  {
   "attachments": {},
   "cell_type": "markdown",
   "metadata": {},
   "source": [
    "На основании полученных результатов сформируем две таблицы с данными о конверсии пользователей в покупку. А затем визуализируем их в двух столбчатых диаграммах."
   ]
  },
  {
   "cell_type": "code",
   "execution_count": 48,
   "metadata": {},
   "outputs": [],
   "source": [
    "df_for_diagram_5 = pd.DataFrame(\n",
    "    data = [['Пара 1, Группа 1',conv1],['Пара 1, Группа 2',conv2],['Пара 2, Группа 1',conv3],['Пара 2, Группа 2',conv4]],\n",
    "    columns = ['group','conversion'],\n",
    "    index = ['couple-1, gr-1','couple-1, gr-2','couple-2, gr-1','couple-2, gr-2'])\n",
    "\n",
    "df_for_diagram_6 = pd.DataFrame(\n",
    "    data = [['Пара 1, Группа 1',conv1],['Пара 1, Группа 2',conv2],['Пара 3, Группа 1',conv5],['Пара 3, Группа 2',conv6]],\n",
    "    columns = ['group','conversion'],\n",
    "    index = ['couple-1, gr-1','couple-1, gr-2','couple-3, gr-1','couple-3, gr-2'])"
   ]
  },
  {
   "attachments": {},
   "cell_type": "markdown",
   "metadata": {},
   "source": [
    "Сформируем первый вариант диаграммы \"Конверсия в покупку\""
   ]
  },
  {
   "cell_type": "code",
   "execution_count": 49,
   "metadata": {},
   "outputs": [
    {
     "data": {
      "image/png": "[encoded data removed]",
      "text/plain": [
       "<Figure size 1200x400 with 1 Axes>"
      ]
     },
     "metadata": {},
     "output_type": "display_data"
    }
   ],
   "source": [
    "df_for_diagram_5.plot(\n",
    "    kind='bar',\n",
    "    grid=True,\n",
    "    figsize=(12, 4),\n",
    "    colormap='plasma'\n",
    ");"
   ]
  },
  {
   "attachments": {},
   "cell_type": "markdown",
   "metadata": {},
   "source": [
    "Сформируем второй вариант диаграммы \"Конверсия в покупку\""
   ]
  },
  {
   "cell_type": "code",
   "execution_count": 50,
   "metadata": {},
   "outputs": [
    {
     "data": {
      "image/png": "[encoded data removed]",
      "text/plain": [
       "<Figure size 1200x400 with 1 Axes>"
      ]
     },
     "metadata": {},
     "output_type": "display_data"
    }
   ],
   "source": [
    "df_for_diagram_6.plot(\n",
    "    kind='bar',\n",
    "    grid=True,\n",
    "    figsize=(12, 4),\n",
    "    colormap='plasma'\n",
    ");"
   ]
  },
  {
   "attachments": {},
   "cell_type": "markdown",
   "metadata": {},
   "source": [
    "На примере столбчатых диаграмм мы можем убедиться в том, что наше утверждение о том, что группы, не попавшие по показателю конверсии в оплату в лидеры, лидеру уступают незначительно (исключение - группа-аутсайдер), подтверждается и визуализацией полученных результатов."
   ]
  },
  {
   "attachments": {},
   "cell_type": "markdown",
   "metadata": {},
   "source": [
    "## Вывод по Гипотезе №2"
   ]
  },
  {
   "attachments": {},
   "cell_type": "markdown",
   "metadata": {},
   "source": [
    "Как видим, мы не можем говорить о том, что повторное прохождение обучения само по себе является решающим и предопределяющим фактором для установления уровня конверсии в оплату. Мы не можем говорить о том, что, вне зависимости от прочих факторов, повторное обучение само по себе выводит группу пользователей, которые были в этом замечены :), на более высокую конверсию в покуку по сравнению с группой пользователей, которые повторного обучения не проходили. Такая прямая зависимость между повторным прохождением обучения и конверсией в покупку отсутствует. Это подтверждают полученные нами результаты.\n",
    "\n",
    "Как мы выяснили ранее, группы пользователей с самой высокой конверсией в покупку - это группы пользователей, прошедшие \"обучение до конца и однажды\", они же в среднем самые мотивированные и самые подготовленные для прохождения нашей игры. И, судя по всему, они просто не нуждаются в повторных обучениях для поддержания (в среднем на более высоком уровне по сравнению с другими группами) своего интереса к игре. Процент тех, кто остается в игре до конца, в этих группах, как мы видим, самый высокий: конверсия в покупку в них выше, чем в остальных группах. И, как мы видим, не благодаря повторному обучению.\n",
    "\n",
    "НО! Мы также не можем утверждать, что повторное прохождение обучения не влияет, и при том не влияет положительно, на конверсию в оплату. Пользователь, который выбирает для себя повторное обучение, с большой долей вероятности, делает это по необходимости, т.е. без повторного обучения его продвижение в игре было бы затруднительным, если было бы вообще возможным. Таким образом, вероятность того, что такой пользователь не смог бы или не захотел бы дальше оставаться в игре, без повторного обучения увеличилась бы. А следовательно, увеличилась бы и вероятность снижения конверсии в покупку. Т.е повторное обучение все-таки влияет и влияет положительно на конверсию в оплату через удержание пользователей в игре и через увеличение, таким образом, числа потенциальных покупателей. Но \"работает\" это только с определенными пользователями, а именно: менее подготовленными для прохождения игры. Таким образом, фактор повторного обучения имеет значение и играет свою положительную роль только совместно с другим или другими факторами.\n",
    "\n",
    "Такую же роль обучение играет и в случае с пользователями, однажды успешно прошедшими обучение, т.е. играет на удержание пользователей в игре, а через это влияет и на конверсию. Кроме того, и в этом случае, в случае с пользователями, однажды успешно прошедшими обучение, обучение играет свою положительную роль только совместно с другим или другими факторами, например, с их более сильной мотивацией, которую обучение призвано усилить.\n",
    "\n",
    "Исходя из установленного ранее факта, что \"группы, не попавшие по показателю конверсии в оплату в лидеры, лидеру уступают незначительно (исключение - группа-аутсайдер)\", можно заключить, что само по себе обучение не влияет на оплату, оно лишь усиливает другие факторы, \"работая\" на удержание пользователей в игре, а через это влияет и на конверсию в оплату.\n",
    "\n",
    "Таким образом, нашу Гипотезу о том, что повторное прохождение обучения положительно влияет на оплату, можно отчасти считать верным, а утверждение о том, что успешное обучение САМО ПО СЕБЕ влияет на оплату - неверным (см. абз. выше, а также - число отсеявшихся после успешно пройденного обучения пользователей (п. 7.1 \"Гипотеза №1\"))."
   ]
  },
  {
   "attachments": {},
   "cell_type": "markdown",
   "metadata": {},
   "source": [
    "### *7.3. Гипотеза № 3*"
   ]
  },
  {
   "attachments": {},
   "cell_type": "markdown",
   "metadata": {},
   "source": [
    "Гипотеза № 3 заключается в разрешении следующего вопроса: если пользователь сначала выбирает сложность обучения, будет ли он потом проходить обучение?"
   ]
  },
  {
   "attachments": {},
   "cell_type": "markdown",
   "metadata": {},
   "source": [
    "Для ответа на поставленный вопрос достаточно вернуться к расчетам скорости прохождения игры от начала обучения до выбора уровня сложности, приведенным в п. 7.1 для проверки Гипотезы № 1. Если бы результаты метода describe, примененного к колонкам timedelta таблиц: events_without_finish_tutorial_merged_2, events_with_finish_tutorial_merged_2, содержащих сведения о скорости (таймдельте) перехода от начала обучения к выбору уровня сложности, показали бы в графах минимального значения (min) значение отрицательное, тогда ответ на текущий вопрос был бы положительным."
   ]
  },
  {
   "cell_type": "code",
   "execution_count": 51,
   "metadata": {},
   "outputs": [
    {
     "name": "stdout",
     "output_type": "stream",
     "text": [
      "                       timedelta\n",
      "count                        743\n",
      "mean   0 days 02:47:28.088829071\n",
      "std    0 days 01:42:58.752826263\n",
      "min              0 days 00:02:05\n",
      "25%              0 days 01:27:58\n",
      "50%              0 days 02:42:43\n",
      "75%       0 days 04:01:45.500000\n",
      "max              0 days 07:08:18\n",
      "\n",
      "                       timedelta\n",
      "count                       7501\n",
      "mean   0 days 02:23:39.903479536\n",
      "std    0 days 01:25:03.022412729\n",
      "min              0 days 00:02:25\n",
      "25%              0 days 01:12:56\n",
      "50%              0 days 02:18:04\n",
      "75%              0 days 03:27:59\n",
      "max              0 days 06:42:54\n"
     ]
    }
   ],
   "source": [
    "print(events_without_finish_tutorial_merged_2.describe(include='timedelta'))\n",
    "print('')\n",
    "print(events_with_finish_tutorial_merged_2.describe(include='timedelta'))"
   ]
  },
  {
   "attachments": {},
   "cell_type": "markdown",
   "metadata": {},
   "source": [
    "Но так как в графах минимального значения (min) отрицательных значений мы не наблюдаем, из вышесказанного вытекает следующий вывод."
   ]
  },
  {
   "attachments": {},
   "cell_type": "markdown",
   "metadata": {},
   "source": [
    "## Вывод по Гипотезе №3"
   ]
  },
  {
   "attachments": {},
   "cell_type": "markdown",
   "metadata": {},
   "source": [
    "Если пользователь сначала выбирает сложность обучения, то проходить потом обучение он не будет. По крайней мере, полученные нами сведения о пользователях, зарегистрированных в игре в 2018 г., таких данных не содержат."
   ]
  },
  {
   "attachments": {},
   "cell_type": "markdown",
   "metadata": {},
   "source": [
    "___________________________________________________________________"
   ]
  },
  {
   "attachments": {},
   "cell_type": "markdown",
   "metadata": {},
   "source": [
    "## РЕКОМЕНДАЦИИ для повышения конверсии в покупку:\n",
    "* возможно, стоит попробовать расширить горизонт тем, представленных в пакетах с вопросами, а также увеличить градацию уровней сложности, так чтобы удовлетворить интересы более широкого круга пользовательской аудитории; \n",
    "* специалистам по маркетингу стоит обратить внимание на качество проведенных мероприятий по таргетированию (см. число пользователей, отсеявшихся после регистрации (см. user_paths, п. 7.1 \"Гипотеза № 1\"))."
   ]
  },
  {
   "attachments": {},
   "cell_type": "markdown",
   "metadata": {},
   "source": [
    "___________________________________________________________________"
   ]
  },
  {
   "attachments": {},
   "cell_type": "markdown",
   "metadata": {},
   "source": [
    "## P.S."
   ]
  },
  {
   "attachments": {},
   "cell_type": "markdown",
   "metadata": {},
   "source": [
    "Возможно, было бы полезным также изучить конверсию в покупки групп пользователей на разных этапах прохождения игры, выяснить какова динамика ухода пользователей из игры, на каких этапах уходит больший процент пользователей, попытаться понять, почему пользователи не доходят до целевого этапа покупки, по какой причине/причинам они отсеиваются (см. user_paths, п. 7.1 \"Гипотеза № 1\")"
   ]
  }
 ],
 "metadata": {
  "kernelspec": {
   "display_name": "Python 3",
   "language": "python",
   "name": "python3"
  },
  "language_info": {
   "codemirror_mode": {
    "name": "ipython",
    "version": 3
   },
   "file_extension": ".py",
   "mimetype": "text/x-python",
   "name": "python",
   "nbconvert_exporter": "python",
   "pygments_lexer": "ipython3",
   "version": "3.9.10"
  },
  "orig_nbformat": 4,
  "vscode": {
   "interpreter": {
    "hash": "c5dcf8f65839ffe924455b86f4d6fb2dcc57c7583f3f1465547e593774b68eba"
   }
  }
 },
 "nbformat": 4,
 "nbformat_minor": 2
}
